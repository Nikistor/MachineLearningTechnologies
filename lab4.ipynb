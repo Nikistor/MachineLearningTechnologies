{
 "cells": [
  {
   "cell_type": "markdown",
   "id": "10bf1d76-6a8f-4423-9683-2d9c51c44366",
   "metadata": {},
   "source": [
    "# 1. Описание датасета \"Used Cars Dataset\"\n",
    "Мы проводим исследование фиктивного датасета для разведочного анализа данных (EDA) и тестирования простых моделей прогнозирования. Датасет содержит 52 строк и 27 колонок.\n",
    "\n",
    "Ссылка на датасет [Used Cars Dataset]: https://www.kaggle.com/datasets/shivanink8/used-cars-dataset\n",
    "\n",
    "## 1.1. Цели:\n",
    "\n",
    "1) Определение данных;\n",
    "2) Формулирование гипотез;\n",
    "3) Загрузка данных в Python;\n",
    "4) Проверка данных;\n",
    "5) Очистка данных;\n",
    "6) Преобразование данных;\n",
    "7) Выбор данных для анализа;\n",
    "8) Агрегирование данных;\n",
    "9) Визуализация данных;\n",
    "10) Подтверждение или опровержение поставленных гипотез;\n",
    "11) Формулирование ограничений и выводов.\n",
    "\n",
    "## 1.2. Определение данных для анализа:\n",
    "\n",
    "В качестве данных для анализа был выбран датасет «Used Cars Dataset». В датасете представлены набор данных примерно 52 подержанных автомобилей из autotrader.com и carfax.com\n",
    "\n",
    "Для анализа будем чаще всего использовать следующие данные из датасета: ...\n",
    "\n",
    "## 1.3. Описание данных\n",
    "\n",
    "##### Содержимое в датасете\n",
    "- `id`- индекс\n",
    "- `brand` -  марка\n",
    "- `model` - модель\n",
    "- `year` - год выпуска \n",
    "- `miles` - пробег \n",
    "- `city mileage` - пробег по городу\n",
    "- `highway mileage` - пробег по шоссе \n",
    "- `horsepower` - мощность\n",
    "- `torque` - крутящий момент\n",
    "- `engine capacity litre` - мощность двигателя\n",
    "- `fuel capacity` - запас топлива\n",
    "- `num cylinder` - количество цилиндров \n",
    "- `num set` - количество посадочных мест \n",
    "- `num owners` - количество владельцев\n",
    "- `price` - цена\n",
    "- `link` - ссылка\n",
    "- `condition` - состояние\n",
    "- `type` - тип\n",
    "- `doors` - количество дверей\n",
    "- `wheel drive` - привод на колесах\n",
    "- `engine type` - тип двигателя\n",
    "- `speed levels` - уровни оборота\n",
    "- `front headroom` - запас хода спереди\n",
    "- `front legroom` - передний запас для переднего привода\n",
    "- `rear headroom` - запас хода сзади\n",
    "- `rear legroom` - задний запас для заднего привода\n",
    "- `service records` - сервисные записи\n",
    "\n",
    "## 1.4. Выбор признаков для машинного обучения\n",
    "\n",
    "Для машинного обучения выберем целевой признак - стоимость автомобиля. Сопоставим с остальными признаками, а именно, характеристики и конфигурации автомобиля выявяляем примерную стоимость автомобиля.- цена автомобиля\n"
   ]
  },
  {
   "cell_type": "markdown",
   "id": "d50ea1d7-b6f5-4c11-bb5a-14fe94890a57",
   "metadata": {},
   "source": [
    "# 2. Предобработка и подготовка к машинному обучению"
   ]
  },
  {
   "cell_type": "code",
   "execution_count": 1,
   "id": "e08ae340-cf84-4f9c-88a5-cbf62e3d06cd",
   "metadata": {},
   "outputs": [],
   "source": [
    "!pip install jupyternotify -q"
   ]
  },
  {
   "cell_type": "code",
   "execution_count": 2,
   "id": "c249885a-89c1-4950-a834-485718180533",
   "metadata": {},
   "outputs": [
    {
     "data": {
      "application/javascript": [
       "if (!(\"Notification\" in window)) {\n",
       "    alert(\"This browser does not support desktop notifications, so the %%notify magic will not work.\");\n",
       "} else if (Notification.permission !== 'granted' && Notification.permission !== 'denied') {\n",
       "    Notification.requestPermission(function (permission) {\n",
       "        if(!('permission' in Notification)) {\n",
       "            Notification.permission = permission;\n",
       "        }\n",
       "    })\n",
       "}\n"
      ],
      "text/plain": [
       "<IPython.core.display.Javascript object>"
      ]
     },
     "metadata": {},
     "output_type": "display_data"
    }
   ],
   "source": [
    "# Уведомление о завершение работы определенного ячейка\n",
    "import jupyternotify\n",
    "%load_ext jupyternotify"
   ]
  },
  {
   "cell_type": "code",
   "execution_count": 3,
   "id": "e3096766-0293-493a-9e4d-e59381185702",
   "metadata": {},
   "outputs": [],
   "source": [
    "# Подключаем все необходимые библиотеки\n",
    "import os\n",
    "import re\n",
    "import graphviz\n",
    "import pandas as pd\n",
    "import matplotlib.pyplot as plt\n",
    "import numpy as np\n",
    "import seaborn as sb\n",
    "from scipy.stats import (\n",
    "    # Критерий Стьюдента\n",
    "    ttest_ind, \n",
    "    f_oneway,\n",
    "    # Тест Манна-Уитни, для гипотез H0 и H1\n",
    "    mannwhitneyu,\n",
    "    f_oneway,\n",
    "    pearsonr\n",
    ")\n",
    "\n",
    "# Масштабируемость модели\n",
    "from sklearn.preprocessing import LabelEncoder, StandardScaler, OrdinalEncoder, OneHotEncoder\n",
    "\n",
    "# Время обучения модели\n",
    "import timeit\n",
    "from lightgbm import LGBMRegressor\n",
    "# Вызов библиотеки для отключения предупреждения\n",
    "import warnings\n",
    "\n",
    "# Разбиение на обучающую, валидационную и тестовую выборку и кроссвалидацию для повышения качеств обучения\n",
    "from sklearn.model_selection import train_test_split, GridSearchCV\n",
    "# Конвейер\n",
    "from sklearn.pipeline import make_pipeline\n",
    "\n",
    "# и для машинного обучения разными способами (по условию мы выбираем линейную регрессию):\n",
    "from sklearn.ensemble import RandomForestRegressor, BaggingRegressor, StackingRegressor\n",
    "from sklearn.linear_model import LinearRegression\n",
    "from sklearn.tree import DecisionTreeRegressor, export_text, export_graphviz\n",
    "from catboost import CatBoostRegressor\n",
    "# Метод ближайшего соседа KNN\n",
    "from sklearn.neighbors import KNeighborsRegressor\n",
    "# Метод опорного вектора, SVR - для регрессии\n",
    "from sklearn.svm import SVR\n",
    "\n",
    "from sklearn.metrics import mean_absolute_error"
   ]
  },
  {
   "cell_type": "code",
   "execution_count": 4,
   "id": "d2957caf-5a7e-4152-b954-e45614b6b6ea",
   "metadata": {},
   "outputs": [],
   "source": [
    "df = pd.read_csv('used_cars.csv')"
   ]
  },
  {
   "cell_type": "markdown",
   "id": "6a0d918c-c03d-4d2a-b1c8-862fa43955db",
   "metadata": {},
   "source": [
    "## 2.1. Изучение данных"
   ]
  },
  {
   "cell_type": "code",
   "execution_count": 5,
   "id": "f8f739f5-6193-4381-8ed6-9b41cd28b835",
   "metadata": {},
   "outputs": [
    {
     "name": "stdout",
     "output_type": "stream",
     "text": [
      "<class 'pandas.core.frame.DataFrame'>\n",
      "RangeIndex: 52 entries, 0 to 51\n",
      "Data columns (total 27 columns):\n",
      " #   Column                 Non-Null Count  Dtype  \n",
      "---  ------                 --------------  -----  \n",
      " 0   id                     52 non-null     int64  \n",
      " 1   brand                  52 non-null     object \n",
      " 2   model                  52 non-null     object \n",
      " 3   year                   52 non-null     int64  \n",
      " 4   miles                  52 non-null     int64  \n",
      " 5   city_mileage           52 non-null     int64  \n",
      " 6   highway_mileage        52 non-null     int64  \n",
      " 7   horsepower             52 non-null     int64  \n",
      " 8   torque                 52 non-null     int64  \n",
      " 9   engine_capacity_litre  52 non-null     float64\n",
      " 10  fuel_capacity          52 non-null     float64\n",
      " 11  num_cylinder           52 non-null     int64  \n",
      " 12  num_seat               52 non-null     int64  \n",
      " 13  num_owners             52 non-null     int64  \n",
      " 14  price                  52 non-null     int64  \n",
      " 15  link                   52 non-null     object \n",
      " 16  condition              1 non-null      float64\n",
      " 17  type                   52 non-null     object \n",
      " 18  doors                  52 non-null     int64  \n",
      " 19  wheel_drive            52 non-null     int64  \n",
      " 20  engine_type            52 non-null     object \n",
      " 21  speed_levels           51 non-null     float64\n",
      " 22  front_headroom         52 non-null     float64\n",
      " 23  front_legroom          52 non-null     float64\n",
      " 24  rear_headroom          52 non-null     float64\n",
      " 25  rear_legroom           52 non-null     float64\n",
      " 26  service_records        52 non-null     int64  \n",
      "dtypes: float64(8), int64(14), object(5)\n",
      "memory usage: 11.1+ KB\n"
     ]
    }
   ],
   "source": [
    "df.info()"
   ]
  },
  {
   "cell_type": "code",
   "execution_count": 6,
   "id": "4a839772-4dc3-431e-957c-7d32eb9e5bac",
   "metadata": {},
   "outputs": [
    {
     "data": {
      "text/plain": [
       "Index(['id', 'brand', 'model', 'year', 'miles', 'city_mileage',\n",
       "       'highway_mileage', 'horsepower', 'torque', 'engine_capacity_litre',\n",
       "       'fuel_capacity', 'num_cylinder', 'num_seat', 'num_owners', 'price',\n",
       "       'link', 'condition', 'type', 'doors', 'wheel_drive', 'engine_type',\n",
       "       'speed_levels', 'front_headroom', 'front_legroom', 'rear_headroom',\n",
       "       'rear_legroom', 'service_records'],\n",
       "      dtype='object')"
      ]
     },
     "execution_count": 6,
     "metadata": {},
     "output_type": "execute_result"
    }
   ],
   "source": [
    "df.columns"
   ]
  },
  {
   "cell_type": "code",
   "execution_count": 7,
   "id": "186fe710-6936-4dc9-96d3-a3e6c62a5bed",
   "metadata": {},
   "outputs": [
    {
     "data": {
      "text/html": [
       "<div>\n",
       "<style scoped>\n",
       "    .dataframe tbody tr th:only-of-type {\n",
       "        vertical-align: middle;\n",
       "    }\n",
       "\n",
       "    .dataframe tbody tr th {\n",
       "        vertical-align: top;\n",
       "    }\n",
       "\n",
       "    .dataframe thead th {\n",
       "        text-align: right;\n",
       "    }\n",
       "</style>\n",
       "<table border=\"1\" class=\"dataframe\">\n",
       "  <thead>\n",
       "    <tr style=\"text-align: right;\">\n",
       "      <th></th>\n",
       "      <th>id</th>\n",
       "      <th>brand</th>\n",
       "      <th>model</th>\n",
       "      <th>year</th>\n",
       "      <th>miles</th>\n",
       "      <th>city_mileage</th>\n",
       "      <th>highway_mileage</th>\n",
       "      <th>horsepower</th>\n",
       "      <th>torque</th>\n",
       "      <th>engine_capacity_litre</th>\n",
       "      <th>...</th>\n",
       "      <th>type</th>\n",
       "      <th>doors</th>\n",
       "      <th>wheel_drive</th>\n",
       "      <th>engine_type</th>\n",
       "      <th>speed_levels</th>\n",
       "      <th>front_headroom</th>\n",
       "      <th>front_legroom</th>\n",
       "      <th>rear_headroom</th>\n",
       "      <th>rear_legroom</th>\n",
       "      <th>service_records</th>\n",
       "    </tr>\n",
       "  </thead>\n",
       "  <tbody>\n",
       "    <tr>\n",
       "      <th>0</th>\n",
       "      <td>3</td>\n",
       "      <td>Chevrolet</td>\n",
       "      <td>Volt LT</td>\n",
       "      <td>2019</td>\n",
       "      <td>27173</td>\n",
       "      <td>43</td>\n",
       "      <td>42</td>\n",
       "      <td>149</td>\n",
       "      <td>294</td>\n",
       "      <td>1.5</td>\n",
       "      <td>...</td>\n",
       "      <td>sedan</td>\n",
       "      <td>4</td>\n",
       "      <td>2</td>\n",
       "      <td>hybrid_gas_electric</td>\n",
       "      <td>6.0</td>\n",
       "      <td>37.8</td>\n",
       "      <td>42.1</td>\n",
       "      <td>35.8</td>\n",
       "      <td>34.7</td>\n",
       "      <td>4</td>\n",
       "    </tr>\n",
       "    <tr>\n",
       "      <th>1</th>\n",
       "      <td>6</td>\n",
       "      <td>Hyundai</td>\n",
       "      <td>Elantra SE</td>\n",
       "      <td>2017</td>\n",
       "      <td>76941</td>\n",
       "      <td>29</td>\n",
       "      <td>38</td>\n",
       "      <td>146</td>\n",
       "      <td>132</td>\n",
       "      <td>2.0</td>\n",
       "      <td>...</td>\n",
       "      <td>sedan</td>\n",
       "      <td>4</td>\n",
       "      <td>2</td>\n",
       "      <td>gas</td>\n",
       "      <td>6.0</td>\n",
       "      <td>39.0</td>\n",
       "      <td>42.2</td>\n",
       "      <td>37.0</td>\n",
       "      <td>35.7</td>\n",
       "      <td>16</td>\n",
       "    </tr>\n",
       "    <tr>\n",
       "      <th>2</th>\n",
       "      <td>7</td>\n",
       "      <td>Ford</td>\n",
       "      <td>Focus</td>\n",
       "      <td>2014</td>\n",
       "      <td>97027</td>\n",
       "      <td>27</td>\n",
       "      <td>37</td>\n",
       "      <td>159</td>\n",
       "      <td>146</td>\n",
       "      <td>2.0</td>\n",
       "      <td>...</td>\n",
       "      <td>sedan</td>\n",
       "      <td>4</td>\n",
       "      <td>2</td>\n",
       "      <td>gas</td>\n",
       "      <td>6.0</td>\n",
       "      <td>38.3</td>\n",
       "      <td>43.7</td>\n",
       "      <td>38.0</td>\n",
       "      <td>33.2</td>\n",
       "      <td>13</td>\n",
       "    </tr>\n",
       "    <tr>\n",
       "      <th>3</th>\n",
       "      <td>8</td>\n",
       "      <td>Honda</td>\n",
       "      <td>Civic</td>\n",
       "      <td>2016</td>\n",
       "      <td>95396</td>\n",
       "      <td>31</td>\n",
       "      <td>42</td>\n",
       "      <td>158</td>\n",
       "      <td>138</td>\n",
       "      <td>1.5</td>\n",
       "      <td>...</td>\n",
       "      <td>sedan</td>\n",
       "      <td>4</td>\n",
       "      <td>2</td>\n",
       "      <td>gas</td>\n",
       "      <td>6.0</td>\n",
       "      <td>37.5</td>\n",
       "      <td>42.3</td>\n",
       "      <td>36.8</td>\n",
       "      <td>37.4</td>\n",
       "      <td>26</td>\n",
       "    </tr>\n",
       "    <tr>\n",
       "      <th>4</th>\n",
       "      <td>9</td>\n",
       "      <td>Hyundai</td>\n",
       "      <td>Elantra SE</td>\n",
       "      <td>2019</td>\n",
       "      <td>28405</td>\n",
       "      <td>29</td>\n",
       "      <td>38</td>\n",
       "      <td>147</td>\n",
       "      <td>132</td>\n",
       "      <td>2.0</td>\n",
       "      <td>...</td>\n",
       "      <td>sedan</td>\n",
       "      <td>4</td>\n",
       "      <td>2</td>\n",
       "      <td>gas</td>\n",
       "      <td>6.0</td>\n",
       "      <td>39.0</td>\n",
       "      <td>42.2</td>\n",
       "      <td>37.0</td>\n",
       "      <td>35.7</td>\n",
       "      <td>5</td>\n",
       "    </tr>\n",
       "  </tbody>\n",
       "</table>\n",
       "<p>5 rows × 27 columns</p>\n",
       "</div>"
      ],
      "text/plain": [
       "   id      brand       model  year  miles  city_mileage  highway_mileage  \\\n",
       "0   3  Chevrolet     Volt LT  2019  27173            43               42   \n",
       "1   6    Hyundai  Elantra SE  2017  76941            29               38   \n",
       "2   7       Ford       Focus  2014  97027            27               37   \n",
       "3   8      Honda       Civic  2016  95396            31               42   \n",
       "4   9    Hyundai  Elantra SE  2019  28405            29               38   \n",
       "\n",
       "   horsepower  torque  engine_capacity_litre  ...   type  doors  wheel_drive  \\\n",
       "0         149     294                    1.5  ...  sedan      4            2   \n",
       "1         146     132                    2.0  ...  sedan      4            2   \n",
       "2         159     146                    2.0  ...  sedan      4            2   \n",
       "3         158     138                    1.5  ...  sedan      4            2   \n",
       "4         147     132                    2.0  ...  sedan      4            2   \n",
       "\n",
       "           engine_type  speed_levels front_headroom  front_legroom  \\\n",
       "0  hybrid_gas_electric           6.0           37.8           42.1   \n",
       "1                  gas           6.0           39.0           42.2   \n",
       "2                  gas           6.0           38.3           43.7   \n",
       "3                  gas           6.0           37.5           42.3   \n",
       "4                  gas           6.0           39.0           42.2   \n",
       "\n",
       "  rear_headroom  rear_legroom  service_records  \n",
       "0          35.8          34.7                4  \n",
       "1          37.0          35.7               16  \n",
       "2          38.0          33.2               13  \n",
       "3          36.8          37.4               26  \n",
       "4          37.0          35.7                5  \n",
       "\n",
       "[5 rows x 27 columns]"
      ]
     },
     "metadata": {},
     "output_type": "display_data"
    },
    {
     "data": {
      "text/html": [
       "<div>\n",
       "<style scoped>\n",
       "    .dataframe tbody tr th:only-of-type {\n",
       "        vertical-align: middle;\n",
       "    }\n",
       "\n",
       "    .dataframe tbody tr th {\n",
       "        vertical-align: top;\n",
       "    }\n",
       "\n",
       "    .dataframe thead th {\n",
       "        text-align: right;\n",
       "    }\n",
       "</style>\n",
       "<table border=\"1\" class=\"dataframe\">\n",
       "  <thead>\n",
       "    <tr style=\"text-align: right;\">\n",
       "      <th></th>\n",
       "      <th>id</th>\n",
       "      <th>brand</th>\n",
       "      <th>model</th>\n",
       "      <th>year</th>\n",
       "      <th>miles</th>\n",
       "      <th>city_mileage</th>\n",
       "      <th>highway_mileage</th>\n",
       "      <th>horsepower</th>\n",
       "      <th>torque</th>\n",
       "      <th>engine_capacity_litre</th>\n",
       "      <th>...</th>\n",
       "      <th>type</th>\n",
       "      <th>doors</th>\n",
       "      <th>wheel_drive</th>\n",
       "      <th>engine_type</th>\n",
       "      <th>speed_levels</th>\n",
       "      <th>front_headroom</th>\n",
       "      <th>front_legroom</th>\n",
       "      <th>rear_headroom</th>\n",
       "      <th>rear_legroom</th>\n",
       "      <th>service_records</th>\n",
       "    </tr>\n",
       "  </thead>\n",
       "  <tbody>\n",
       "    <tr>\n",
       "      <th>47</th>\n",
       "      <td>53</td>\n",
       "      <td>Hyundai</td>\n",
       "      <td>Sonata</td>\n",
       "      <td>2019</td>\n",
       "      <td>33412</td>\n",
       "      <td>23</td>\n",
       "      <td>32</td>\n",
       "      <td>245</td>\n",
       "      <td>260</td>\n",
       "      <td>2.0</td>\n",
       "      <td>...</td>\n",
       "      <td>sedan</td>\n",
       "      <td>4</td>\n",
       "      <td>2</td>\n",
       "      <td>gas</td>\n",
       "      <td>8.0</td>\n",
       "      <td>40.4</td>\n",
       "      <td>45.5</td>\n",
       "      <td>38.0</td>\n",
       "      <td>35.6</td>\n",
       "      <td>10</td>\n",
       "    </tr>\n",
       "    <tr>\n",
       "      <th>48</th>\n",
       "      <td>54</td>\n",
       "      <td>Hyundai</td>\n",
       "      <td>Elantra SE</td>\n",
       "      <td>2020</td>\n",
       "      <td>13830</td>\n",
       "      <td>30</td>\n",
       "      <td>40</td>\n",
       "      <td>147</td>\n",
       "      <td>132</td>\n",
       "      <td>2.0</td>\n",
       "      <td>...</td>\n",
       "      <td>sedan</td>\n",
       "      <td>4</td>\n",
       "      <td>2</td>\n",
       "      <td>gas</td>\n",
       "      <td>6.0</td>\n",
       "      <td>40.3</td>\n",
       "      <td>42.2</td>\n",
       "      <td>37.3</td>\n",
       "      <td>35.7</td>\n",
       "      <td>6</td>\n",
       "    </tr>\n",
       "    <tr>\n",
       "      <th>49</th>\n",
       "      <td>55</td>\n",
       "      <td>Ford</td>\n",
       "      <td>Fusion</td>\n",
       "      <td>2019</td>\n",
       "      <td>23507</td>\n",
       "      <td>20</td>\n",
       "      <td>29</td>\n",
       "      <td>245</td>\n",
       "      <td>275</td>\n",
       "      <td>2.0</td>\n",
       "      <td>...</td>\n",
       "      <td>sedan</td>\n",
       "      <td>4</td>\n",
       "      <td>2</td>\n",
       "      <td>gas</td>\n",
       "      <td>6.0</td>\n",
       "      <td>39.2</td>\n",
       "      <td>44.3</td>\n",
       "      <td>37.8</td>\n",
       "      <td>38.3</td>\n",
       "      <td>11</td>\n",
       "    </tr>\n",
       "    <tr>\n",
       "      <th>50</th>\n",
       "      <td>56</td>\n",
       "      <td>Hyundai</td>\n",
       "      <td>Elantra SE</td>\n",
       "      <td>2020</td>\n",
       "      <td>11296</td>\n",
       "      <td>30</td>\n",
       "      <td>40</td>\n",
       "      <td>147</td>\n",
       "      <td>132</td>\n",
       "      <td>2.0</td>\n",
       "      <td>...</td>\n",
       "      <td>sedan</td>\n",
       "      <td>4</td>\n",
       "      <td>2</td>\n",
       "      <td>gas</td>\n",
       "      <td>6.0</td>\n",
       "      <td>40.3</td>\n",
       "      <td>42.2</td>\n",
       "      <td>37.3</td>\n",
       "      <td>35.7</td>\n",
       "      <td>7</td>\n",
       "    </tr>\n",
       "    <tr>\n",
       "      <th>51</th>\n",
       "      <td>57</td>\n",
       "      <td>Honda</td>\n",
       "      <td>Accord</td>\n",
       "      <td>2018</td>\n",
       "      <td>82729</td>\n",
       "      <td>30</td>\n",
       "      <td>38</td>\n",
       "      <td>192</td>\n",
       "      <td>192</td>\n",
       "      <td>1.5</td>\n",
       "      <td>...</td>\n",
       "      <td>sedan</td>\n",
       "      <td>4</td>\n",
       "      <td>2</td>\n",
       "      <td>gas</td>\n",
       "      <td>6.0</td>\n",
       "      <td>39.5</td>\n",
       "      <td>42.3</td>\n",
       "      <td>37.3</td>\n",
       "      <td>40.4</td>\n",
       "      <td>9</td>\n",
       "    </tr>\n",
       "  </tbody>\n",
       "</table>\n",
       "<p>5 rows × 27 columns</p>\n",
       "</div>"
      ],
      "text/plain": [
       "    id    brand       model  year  miles  city_mileage  highway_mileage  \\\n",
       "47  53  Hyundai      Sonata  2019  33412            23               32   \n",
       "48  54  Hyundai  Elantra SE  2020  13830            30               40   \n",
       "49  55     Ford      Fusion  2019  23507            20               29   \n",
       "50  56  Hyundai  Elantra SE  2020  11296            30               40   \n",
       "51  57    Honda      Accord  2018  82729            30               38   \n",
       "\n",
       "    horsepower  torque  engine_capacity_litre  ...   type  doors  wheel_drive  \\\n",
       "47         245     260                    2.0  ...  sedan      4            2   \n",
       "48         147     132                    2.0  ...  sedan      4            2   \n",
       "49         245     275                    2.0  ...  sedan      4            2   \n",
       "50         147     132                    2.0  ...  sedan      4            2   \n",
       "51         192     192                    1.5  ...  sedan      4            2   \n",
       "\n",
       "    engine_type  speed_levels front_headroom  front_legroom rear_headroom  \\\n",
       "47          gas           8.0           40.4           45.5          38.0   \n",
       "48          gas           6.0           40.3           42.2          37.3   \n",
       "49          gas           6.0           39.2           44.3          37.8   \n",
       "50          gas           6.0           40.3           42.2          37.3   \n",
       "51          gas           6.0           39.5           42.3          37.3   \n",
       "\n",
       "    rear_legroom  service_records  \n",
       "47          35.6               10  \n",
       "48          35.7                6  \n",
       "49          38.3               11  \n",
       "50          35.7                7  \n",
       "51          40.4                9  \n",
       "\n",
       "[5 rows x 27 columns]"
      ]
     },
     "metadata": {},
     "output_type": "display_data"
    }
   ],
   "source": [
    "display(df.head())\n",
    "display(df.tail())"
   ]
  },
  {
   "cell_type": "code",
   "execution_count": 8,
   "id": "e2fcb656-a69c-4a0f-9591-cb5ebe44325e",
   "metadata": {},
   "outputs": [],
   "source": [
    "#Приведение к нижнему регистру и удаление лишних пробелов в названиях столбцов\n",
    "df.columns = df.columns.str.strip().str.lower()"
   ]
  },
  {
   "cell_type": "markdown",
   "id": "b71f79bb-1d12-4b75-9889-5c5dd6975965",
   "metadata": {},
   "source": [
    "## 2.2. Преобразование данных"
   ]
  },
  {
   "cell_type": "code",
   "execution_count": 9,
   "id": "5091dcce-f972-401a-973a-93d158b14fa4",
   "metadata": {},
   "outputs": [
    {
     "name": "stdout",
     "output_type": "stream",
     "text": [
      "Объем датасета до преобразования: 0.048 Мбайт\n"
     ]
    }
   ],
   "source": [
    "# Проверим объем занимаемой памяти в Мбайтах до преобразования\n",
    "print(f'Объем датасета до преобразования: {df.memory_usage(deep=True).sum() / 1024 / 1024:.3f} Мбайт')  "
   ]
  },
  {
   "cell_type": "code",
   "execution_count": 10,
   "id": "263fc0ef-6d61-4afa-a69f-2c33da26b3f3",
   "metadata": {},
   "outputs": [],
   "source": [
    "original_memory = df.memory_usage(deep=True).sum()"
   ]
  },
  {
   "cell_type": "code",
   "execution_count": 11,
   "id": "56035779-35cb-4bdd-ad33-12b064e7977d",
   "metadata": {},
   "outputs": [],
   "source": [
    "# Автоматизируем\n",
    "def change_type_variable(dateframe, show_print_report=False):\n",
    "    for name_column in dateframe:\n",
    "        if(dateframe[name_column].dtype  == 'int64'):\n",
    "            dateframe[name_column] = dateframe[name_column].astype('int32')\n",
    "            if(show_print_report):\n",
    "                print(f'Успешно, преобразовали в другой тип INT32 колонки: {name_column}')\n",
    "        if(dateframe[name_column].dtype  == 'float64'):\n",
    "            dateframe[name_column] = dateframe[name_column].astype('float32')\n",
    "            if(show_print_report):\n",
    "                print(f'Успешно, преобразовали в другой тип FLOAT32 колонки: {name_column}')\n",
    "        if(name_column in ['accidents_or_damage', 'one_owner', 'personal_use_only']):\n",
    "            dateframe[name_column] = dateframe[name_column].astype(bool)\n",
    "    if not(show_print_report):\n",
    "        print('Успешно, преобразованы в другой тип')"
   ]
  },
  {
   "cell_type": "code",
   "execution_count": 12,
   "id": "9e7f200a-0a8f-4a52-a3e6-c59931c311f4",
   "metadata": {},
   "outputs": [
    {
     "name": "stdout",
     "output_type": "stream",
     "text": [
      "Успешно, преобразованы в другой тип\n"
     ]
    }
   ],
   "source": [
    "# Преобразуем их\n",
    "change_type_variable(df)"
   ]
  },
  {
   "cell_type": "code",
   "execution_count": 13,
   "id": "12f5c89b-52ca-4714-8d27-ddd79ae8aacd",
   "metadata": {},
   "outputs": [
    {
     "name": "stdout",
     "output_type": "stream",
     "text": [
      "Объем датасета после преобразования: 0.044 Мбайт\n"
     ]
    }
   ],
   "source": [
    "# Проверим объем занимаемой памяти в Мбайтах до преобразования\n",
    "print(f'Объем датасета после преобразования: {df.memory_usage(deep=True).sum() / 1024 / 1024:.3f} Мбайт')"
   ]
  },
  {
   "cell_type": "code",
   "execution_count": 14,
   "id": "62380ef8-ef7d-4bbc-b280-ef2a4b5b2ab4",
   "metadata": {},
   "outputs": [],
   "source": [
    "optimized_memory = df.memory_usage(deep=True).sum()"
   ]
  },
  {
   "cell_type": "code",
   "execution_count": 15,
   "id": "13c33c6f-a744-4b10-8804-b7536e883ed0",
   "metadata": {},
   "outputs": [
    {
     "name": "stdout",
     "output_type": "stream",
     "text": [
      "Сэкономлено 9.11% памяти\n"
     ]
    }
   ],
   "source": [
    "# Узнаем, сколько сэкономили памяти\n",
    "savings_percentage = (original_memory - optimized_memory) / original_memory * 100\n",
    "print(f\"Сэкономлено {savings_percentage:.2f}% памяти\")"
   ]
  },
  {
   "cell_type": "code",
   "execution_count": 16,
   "id": "5b2670fe-0e8c-4149-b66e-22cde2a48a83",
   "metadata": {},
   "outputs": [
    {
     "name": "stdout",
     "output_type": "stream",
     "text": [
      "<class 'pandas.core.frame.DataFrame'>\n",
      "RangeIndex: 52 entries, 0 to 51\n",
      "Data columns (total 27 columns):\n",
      " #   Column                 Non-Null Count  Dtype  \n",
      "---  ------                 --------------  -----  \n",
      " 0   id                     52 non-null     int32  \n",
      " 1   brand                  52 non-null     object \n",
      " 2   model                  52 non-null     object \n",
      " 3   year                   52 non-null     int32  \n",
      " 4   miles                  52 non-null     int32  \n",
      " 5   city_mileage           52 non-null     int32  \n",
      " 6   highway_mileage        52 non-null     int32  \n",
      " 7   horsepower             52 non-null     int32  \n",
      " 8   torque                 52 non-null     int32  \n",
      " 9   engine_capacity_litre  52 non-null     float32\n",
      " 10  fuel_capacity          52 non-null     float32\n",
      " 11  num_cylinder           52 non-null     int32  \n",
      " 12  num_seat               52 non-null     int32  \n",
      " 13  num_owners             52 non-null     int32  \n",
      " 14  price                  52 non-null     int32  \n",
      " 15  link                   52 non-null     object \n",
      " 16  condition              1 non-null      float32\n",
      " 17  type                   52 non-null     object \n",
      " 18  doors                  52 non-null     int32  \n",
      " 19  wheel_drive            52 non-null     int32  \n",
      " 20  engine_type            52 non-null     object \n",
      " 21  speed_levels           51 non-null     float32\n",
      " 22  front_headroom         52 non-null     float32\n",
      " 23  front_legroom          52 non-null     float32\n",
      " 24  rear_headroom          52 non-null     float32\n",
      " 25  rear_legroom           52 non-null     float32\n",
      " 26  service_records        52 non-null     int32  \n",
      "dtypes: float32(8), int32(14), object(5)\n",
      "memory usage: 6.6+ KB\n"
     ]
    }
   ],
   "source": [
    "df.info()"
   ]
  },
  {
   "cell_type": "markdown",
   "id": "08f9f594-0c1e-4a36-8244-1c373db002c7",
   "metadata": {},
   "source": [
    "## 2.3. Описательная статистика"
   ]
  },
  {
   "cell_type": "code",
   "execution_count": 17,
   "id": "93027a01-0bcc-4c70-aa0a-d517ac7cac8d",
   "metadata": {},
   "outputs": [
    {
     "data": {
      "text/html": [
       "<div>\n",
       "<style scoped>\n",
       "    .dataframe tbody tr th:only-of-type {\n",
       "        vertical-align: middle;\n",
       "    }\n",
       "\n",
       "    .dataframe tbody tr th {\n",
       "        vertical-align: top;\n",
       "    }\n",
       "\n",
       "    .dataframe thead th {\n",
       "        text-align: right;\n",
       "    }\n",
       "</style>\n",
       "<table border=\"1\" class=\"dataframe\">\n",
       "  <thead>\n",
       "    <tr style=\"text-align: right;\">\n",
       "      <th></th>\n",
       "      <th>id</th>\n",
       "      <th>year</th>\n",
       "      <th>miles</th>\n",
       "      <th>city_mileage</th>\n",
       "      <th>highway_mileage</th>\n",
       "      <th>horsepower</th>\n",
       "      <th>torque</th>\n",
       "      <th>engine_capacity_litre</th>\n",
       "      <th>fuel_capacity</th>\n",
       "      <th>num_cylinder</th>\n",
       "      <th>...</th>\n",
       "      <th>price</th>\n",
       "      <th>condition</th>\n",
       "      <th>doors</th>\n",
       "      <th>wheel_drive</th>\n",
       "      <th>speed_levels</th>\n",
       "      <th>front_headroom</th>\n",
       "      <th>front_legroom</th>\n",
       "      <th>rear_headroom</th>\n",
       "      <th>rear_legroom</th>\n",
       "      <th>service_records</th>\n",
       "    </tr>\n",
       "  </thead>\n",
       "  <tbody>\n",
       "    <tr>\n",
       "      <th>count</th>\n",
       "      <td>52.000000</td>\n",
       "      <td>52.000000</td>\n",
       "      <td>52.000000</td>\n",
       "      <td>52.000000</td>\n",
       "      <td>52.000000</td>\n",
       "      <td>52.000000</td>\n",
       "      <td>52.000000</td>\n",
       "      <td>52.000000</td>\n",
       "      <td>52.000000</td>\n",
       "      <td>52.000000</td>\n",
       "      <td>...</td>\n",
       "      <td>52.000000</td>\n",
       "      <td>1.0</td>\n",
       "      <td>52.0</td>\n",
       "      <td>52.000000</td>\n",
       "      <td>51.000000</td>\n",
       "      <td>52.000000</td>\n",
       "      <td>52.000000</td>\n",
       "      <td>52.000000</td>\n",
       "      <td>52.000000</td>\n",
       "      <td>52.000000</td>\n",
       "    </tr>\n",
       "    <tr>\n",
       "      <th>mean</th>\n",
       "      <td>31.365385</td>\n",
       "      <td>2018.673077</td>\n",
       "      <td>33901.250000</td>\n",
       "      <td>29.038462</td>\n",
       "      <td>37.423077</td>\n",
       "      <td>176.865385</td>\n",
       "      <td>177.923077</td>\n",
       "      <td>1.832692</td>\n",
       "      <td>14.232693</td>\n",
       "      <td>4.038462</td>\n",
       "      <td>...</td>\n",
       "      <td>21763.423077</td>\n",
       "      <td>4.0</td>\n",
       "      <td>4.0</td>\n",
       "      <td>2.153846</td>\n",
       "      <td>6.313725</td>\n",
       "      <td>38.680771</td>\n",
       "      <td>42.467308</td>\n",
       "      <td>37.238468</td>\n",
       "      <td>37.632694</td>\n",
       "      <td>7.326923</td>\n",
       "    </tr>\n",
       "    <tr>\n",
       "      <th>std</th>\n",
       "      <td>15.378912</td>\n",
       "      <td>1.396370</td>\n",
       "      <td>22700.646139</td>\n",
       "      <td>5.947356</td>\n",
       "      <td>4.136619</td>\n",
       "      <td>33.793507</td>\n",
       "      <td>47.256433</td>\n",
       "      <td>0.379743</td>\n",
       "      <td>2.603973</td>\n",
       "      <td>0.277350</td>\n",
       "      <td>...</td>\n",
       "      <td>3532.455322</td>\n",
       "      <td>NaN</td>\n",
       "      <td>0.0</td>\n",
       "      <td>0.538138</td>\n",
       "      <td>0.761320</td>\n",
       "      <td>0.919087</td>\n",
       "      <td>1.045199</td>\n",
       "      <td>0.444202</td>\n",
       "      <td>1.604249</td>\n",
       "      <td>4.714272</td>\n",
       "    </tr>\n",
       "    <tr>\n",
       "      <th>min</th>\n",
       "      <td>3.000000</td>\n",
       "      <td>2014.000000</td>\n",
       "      <td>5000.000000</td>\n",
       "      <td>17.000000</td>\n",
       "      <td>24.000000</td>\n",
       "      <td>143.000000</td>\n",
       "      <td>99.000000</td>\n",
       "      <td>1.400000</td>\n",
       "      <td>7.000000</td>\n",
       "      <td>4.000000</td>\n",
       "      <td>...</td>\n",
       "      <td>13590.000000</td>\n",
       "      <td>4.0</td>\n",
       "      <td>4.0</td>\n",
       "      <td>2.000000</td>\n",
       "      <td>6.000000</td>\n",
       "      <td>37.500000</td>\n",
       "      <td>41.099998</td>\n",
       "      <td>35.799999</td>\n",
       "      <td>33.200001</td>\n",
       "      <td>1.000000</td>\n",
       "    </tr>\n",
       "    <tr>\n",
       "      <th>25%</th>\n",
       "      <td>18.750000</td>\n",
       "      <td>2018.000000</td>\n",
       "      <td>16454.750000</td>\n",
       "      <td>26.500000</td>\n",
       "      <td>35.750000</td>\n",
       "      <td>152.000000</td>\n",
       "      <td>138.000000</td>\n",
       "      <td>1.500000</td>\n",
       "      <td>12.400000</td>\n",
       "      <td>4.000000</td>\n",
       "      <td>...</td>\n",
       "      <td>19519.000000</td>\n",
       "      <td>4.0</td>\n",
       "      <td>4.0</td>\n",
       "      <td>2.000000</td>\n",
       "      <td>6.000000</td>\n",
       "      <td>37.724999</td>\n",
       "      <td>42.200001</td>\n",
       "      <td>37.074999</td>\n",
       "      <td>37.175001</td>\n",
       "      <td>4.000000</td>\n",
       "    </tr>\n",
       "    <tr>\n",
       "      <th>50%</th>\n",
       "      <td>31.500000</td>\n",
       "      <td>2019.000000</td>\n",
       "      <td>27448.500000</td>\n",
       "      <td>30.000000</td>\n",
       "      <td>38.000000</td>\n",
       "      <td>159.500000</td>\n",
       "      <td>181.000000</td>\n",
       "      <td>2.000000</td>\n",
       "      <td>13.600000</td>\n",
       "      <td>4.000000</td>\n",
       "      <td>...</td>\n",
       "      <td>21998.500000</td>\n",
       "      <td>4.0</td>\n",
       "      <td>4.0</td>\n",
       "      <td>2.000000</td>\n",
       "      <td>6.000000</td>\n",
       "      <td>38.500000</td>\n",
       "      <td>42.299999</td>\n",
       "      <td>37.200001</td>\n",
       "      <td>37.400002</td>\n",
       "      <td>6.000000</td>\n",
       "    </tr>\n",
       "    <tr>\n",
       "      <th>75%</th>\n",
       "      <td>44.250000</td>\n",
       "      <td>2019.250000</td>\n",
       "      <td>42442.000000</td>\n",
       "      <td>30.000000</td>\n",
       "      <td>40.000000</td>\n",
       "      <td>192.000000</td>\n",
       "      <td>192.000000</td>\n",
       "      <td>2.000000</td>\n",
       "      <td>15.050000</td>\n",
       "      <td>4.000000</td>\n",
       "      <td>...</td>\n",
       "      <td>22996.000000</td>\n",
       "      <td>4.0</td>\n",
       "      <td>4.0</td>\n",
       "      <td>2.000000</td>\n",
       "      <td>6.000000</td>\n",
       "      <td>39.299999</td>\n",
       "      <td>42.400002</td>\n",
       "      <td>37.500000</td>\n",
       "      <td>38.299999</td>\n",
       "      <td>10.000000</td>\n",
       "    </tr>\n",
       "    <tr>\n",
       "      <th>max</th>\n",
       "      <td>57.000000</td>\n",
       "      <td>2022.000000</td>\n",
       "      <td>97027.000000</td>\n",
       "      <td>55.000000</td>\n",
       "      <td>49.000000</td>\n",
       "      <td>288.000000</td>\n",
       "      <td>294.000000</td>\n",
       "      <td>3.500000</td>\n",
       "      <td>19.000000</td>\n",
       "      <td>6.000000</td>\n",
       "      <td>...</td>\n",
       "      <td>33777.000000</td>\n",
       "      <td>4.0</td>\n",
       "      <td>4.0</td>\n",
       "      <td>4.000000</td>\n",
       "      <td>9.000000</td>\n",
       "      <td>40.400002</td>\n",
       "      <td>45.500000</td>\n",
       "      <td>38.000000</td>\n",
       "      <td>40.400002</td>\n",
       "      <td>26.000000</td>\n",
       "    </tr>\n",
       "  </tbody>\n",
       "</table>\n",
       "<p>8 rows × 22 columns</p>\n",
       "</div>"
      ],
      "text/plain": [
       "              id         year         miles  city_mileage  highway_mileage  \\\n",
       "count  52.000000    52.000000     52.000000     52.000000        52.000000   \n",
       "mean   31.365385  2018.673077  33901.250000     29.038462        37.423077   \n",
       "std    15.378912     1.396370  22700.646139      5.947356         4.136619   \n",
       "min     3.000000  2014.000000   5000.000000     17.000000        24.000000   \n",
       "25%    18.750000  2018.000000  16454.750000     26.500000        35.750000   \n",
       "50%    31.500000  2019.000000  27448.500000     30.000000        38.000000   \n",
       "75%    44.250000  2019.250000  42442.000000     30.000000        40.000000   \n",
       "max    57.000000  2022.000000  97027.000000     55.000000        49.000000   \n",
       "\n",
       "       horsepower      torque  engine_capacity_litre  fuel_capacity  \\\n",
       "count   52.000000   52.000000              52.000000      52.000000   \n",
       "mean   176.865385  177.923077               1.832692      14.232693   \n",
       "std     33.793507   47.256433               0.379743       2.603973   \n",
       "min    143.000000   99.000000               1.400000       7.000000   \n",
       "25%    152.000000  138.000000               1.500000      12.400000   \n",
       "50%    159.500000  181.000000               2.000000      13.600000   \n",
       "75%    192.000000  192.000000               2.000000      15.050000   \n",
       "max    288.000000  294.000000               3.500000      19.000000   \n",
       "\n",
       "       num_cylinder  ...         price  condition  doors  wheel_drive  \\\n",
       "count     52.000000  ...     52.000000        1.0   52.0    52.000000   \n",
       "mean       4.038462  ...  21763.423077        4.0    4.0     2.153846   \n",
       "std        0.277350  ...   3532.455322        NaN    0.0     0.538138   \n",
       "min        4.000000  ...  13590.000000        4.0    4.0     2.000000   \n",
       "25%        4.000000  ...  19519.000000        4.0    4.0     2.000000   \n",
       "50%        4.000000  ...  21998.500000        4.0    4.0     2.000000   \n",
       "75%        4.000000  ...  22996.000000        4.0    4.0     2.000000   \n",
       "max        6.000000  ...  33777.000000        4.0    4.0     4.000000   \n",
       "\n",
       "       speed_levels  front_headroom  front_legroom  rear_headroom  \\\n",
       "count     51.000000       52.000000      52.000000      52.000000   \n",
       "mean       6.313725       38.680771      42.467308      37.238468   \n",
       "std        0.761320        0.919087       1.045199       0.444202   \n",
       "min        6.000000       37.500000      41.099998      35.799999   \n",
       "25%        6.000000       37.724999      42.200001      37.074999   \n",
       "50%        6.000000       38.500000      42.299999      37.200001   \n",
       "75%        6.000000       39.299999      42.400002      37.500000   \n",
       "max        9.000000       40.400002      45.500000      38.000000   \n",
       "\n",
       "       rear_legroom  service_records  \n",
       "count     52.000000        52.000000  \n",
       "mean      37.632694         7.326923  \n",
       "std        1.604249         4.714272  \n",
       "min       33.200001         1.000000  \n",
       "25%       37.175001         4.000000  \n",
       "50%       37.400002         6.000000  \n",
       "75%       38.299999        10.000000  \n",
       "max       40.400002        26.000000  \n",
       "\n",
       "[8 rows x 22 columns]"
      ]
     },
     "execution_count": 17,
     "metadata": {},
     "output_type": "execute_result"
    }
   ],
   "source": [
    "df.describe()"
   ]
  },
  {
   "cell_type": "markdown",
   "id": "d37c4422-1848-4bd1-8f42-5b95bce9fa9c",
   "metadata": {},
   "source": [
    "## 2.4.Предобработка данных"
   ]
  },
  {
   "cell_type": "markdown",
   "id": "64df6fb1-6440-4d44-ac2e-1909bb1e1b4b",
   "metadata": {},
   "source": [
    "### 2.4.1. Пропущенные значения"
   ]
  },
  {
   "cell_type": "code",
   "execution_count": 18,
   "id": "5f41039c-987f-4b9f-9da8-3fe46a61cbda",
   "metadata": {},
   "outputs": [
    {
     "data": {
      "image/png": "[encoded data removed]",
      "text/plain": [
       "<Figure size 1000x600 with 1 Axes>"
      ]
     },
     "metadata": {},
     "output_type": "display_data"
    }
   ],
   "source": [
    "# Создаем список с именами столбцов и количеством пропущенных значений\n",
    "missing_counts = [df[column].isnull().sum() for column in df.columns]\n",
    "\n",
    "# Сортируем столбцы в порядке убывания количества пропущенных значений\n",
    "sorted_columns, sorted_missing_counts = zip(*sorted(zip(df.columns, missing_counts), key=lambda x: x[1], reverse=False))\n",
    "\n",
    "# Создаем горизонтальную столбчатую диаграмму\n",
    "plt.figure(figsize=(10, 6))\n",
    "# Используем barh для горизонтальных столбцов\n",
    "plt.barh(sorted_columns, sorted_missing_counts)  \n",
    "plt.xlabel('Количество пропущенных значений')\n",
    "plt.ylabel('Название столбцов')\n",
    "plt.title('Количество пропущенных значений в каждом столбце')\n",
    "plt.tight_layout()\n",
    "\n",
    "# Отображаем график\n",
    "plt.show()"
   ]
  },
  {
   "cell_type": "code",
   "execution_count": 19,
   "id": "660f3a1c-8bf0-42e4-a9fd-4b10537384aa",
   "metadata": {},
   "outputs": [
    {
     "name": "stdout",
     "output_type": "stream",
     "text": [
      "Названий столбцов, у которых пропуски:\n",
      "\tspeed_levels\n",
      "\tcondition\n"
     ]
    }
   ],
   "source": [
    "columns_isnull = [col for col, count in zip(sorted_columns, sorted_missing_counts) if count > 0]\n",
    "print(f'Названий столбцов, у которых пропуски:')\n",
    "for col in columns_isnull:\n",
    "    print('\\t' + col)"
   ]
  },
  {
   "cell_type": "code",
   "execution_count": 20,
   "id": "01d8174b-602b-4c9d-8570-8ae0f2d2dfa3",
   "metadata": {},
   "outputs": [
    {
     "name": "stdout",
     "output_type": "stream",
     "text": [
      "id - 0\n",
      "brand - 0\n",
      "model - 0\n",
      "year - 0\n",
      "miles - 0\n",
      "city_mileage - 0\n",
      "highway_mileage - 0\n",
      "horsepower - 0\n",
      "torque - 0\n",
      "engine_capacity_litre - 0\n",
      "fuel_capacity - 0\n",
      "num_cylinder - 0\n",
      "num_seat - 0\n",
      "num_owners - 0\n",
      "price - 0\n",
      "link - 0\n",
      "condition - 51\n",
      "type - 0\n",
      "doors - 0\n",
      "wheel_drive - 0\n",
      "engine_type - 0\n",
      "speed_levels - 1\n",
      "front_headroom - 0\n",
      "front_legroom - 0\n",
      "rear_headroom - 0\n",
      "rear_legroom - 0\n",
      "service_records - 0\n"
     ]
    }
   ],
   "source": [
    "# Проверим наличие пустых значений\n",
    "# Цикл по колонкам датасета\n",
    "for col in df.columns:\n",
    "    # Количество пустых значений - все значения заполнены\n",
    "    temp_null_count = df[df[col].isnull()].shape[0]\n",
    "    print('{} - {}'.format(col, temp_null_count))"
   ]
  },
  {
   "cell_type": "code",
   "execution_count": 21,
   "id": "a3b461c9-e6fe-4016-893d-12569784add3",
   "metadata": {},
   "outputs": [],
   "source": [
    "# Замена пропусков медианой для 'speed_levels'\n",
    "median_speed = df['speed_levels'].median()\n",
    "df['speed_levels'].fillna(median_speed, inplace=True)\n",
    "\n",
    "# Замена пропусков медианой для 'condition'\n",
    "median_condition = df['condition'].median()\n",
    "df['condition'].fillna(median_condition, inplace=True)"
   ]
  },
  {
   "cell_type": "code",
   "execution_count": 22,
   "id": "4d29a209-8c63-4873-97d5-9617f9a84a3f",
   "metadata": {},
   "outputs": [
    {
     "name": "stdout",
     "output_type": "stream",
     "text": [
      "Колонка: speed_levels; \t Кол-во пропусков: 0\n",
      "Колонка: condition; \t Кол-во пропусков: 0\n"
     ]
    }
   ],
   "source": [
    "# Проверим еще раз\n",
    "for col in columns_isnull:\n",
    "    print(f'Колонка: {col}; \\t Кол-во пропусков: {df[col].isnull().sum()}')"
   ]
  },
  {
   "cell_type": "markdown",
   "id": "964ff2a0-8263-46de-811e-853ab5083c45",
   "metadata": {},
   "source": [
    "### 2.4.2. Дубликаты"
   ]
  },
  {
   "cell_type": "code",
   "execution_count": 23,
   "id": "8d01c16f-e8f2-482d-93ab-35a18779be1f",
   "metadata": {},
   "outputs": [
    {
     "data": {
      "text/plain": [
       "0"
      ]
     },
     "execution_count": 23,
     "metadata": {},
     "output_type": "execute_result"
    }
   ],
   "source": [
    "# Количество дублирующих значений\n",
    "df.duplicated().sum()"
   ]
  },
  {
   "cell_type": "code",
   "execution_count": 24,
   "id": "316d13ff-5857-4312-971f-a23ac8d969d9",
   "metadata": {},
   "outputs": [
    {
     "data": {
      "text/html": [
       "<div>\n",
       "<style scoped>\n",
       "    .dataframe tbody tr th:only-of-type {\n",
       "        vertical-align: middle;\n",
       "    }\n",
       "\n",
       "    .dataframe tbody tr th {\n",
       "        vertical-align: top;\n",
       "    }\n",
       "\n",
       "    .dataframe thead th {\n",
       "        text-align: right;\n",
       "    }\n",
       "</style>\n",
       "<table border=\"1\" class=\"dataframe\">\n",
       "  <thead>\n",
       "    <tr style=\"text-align: right;\">\n",
       "      <th></th>\n",
       "      <th>id</th>\n",
       "      <th>year</th>\n",
       "      <th>miles</th>\n",
       "      <th>city_mileage</th>\n",
       "      <th>highway_mileage</th>\n",
       "      <th>horsepower</th>\n",
       "      <th>torque</th>\n",
       "      <th>engine_capacity_litre</th>\n",
       "      <th>fuel_capacity</th>\n",
       "      <th>num_cylinder</th>\n",
       "      <th>...</th>\n",
       "      <th>price</th>\n",
       "      <th>condition</th>\n",
       "      <th>doors</th>\n",
       "      <th>wheel_drive</th>\n",
       "      <th>speed_levels</th>\n",
       "      <th>front_headroom</th>\n",
       "      <th>front_legroom</th>\n",
       "      <th>rear_headroom</th>\n",
       "      <th>rear_legroom</th>\n",
       "      <th>service_records</th>\n",
       "    </tr>\n",
       "  </thead>\n",
       "  <tbody>\n",
       "    <tr>\n",
       "      <th>count</th>\n",
       "      <td>52.000000</td>\n",
       "      <td>52.000000</td>\n",
       "      <td>52.000000</td>\n",
       "      <td>52.000000</td>\n",
       "      <td>52.000000</td>\n",
       "      <td>52.000000</td>\n",
       "      <td>52.000000</td>\n",
       "      <td>52.000000</td>\n",
       "      <td>52.000000</td>\n",
       "      <td>52.000000</td>\n",
       "      <td>...</td>\n",
       "      <td>52.000000</td>\n",
       "      <td>52.0</td>\n",
       "      <td>52.0</td>\n",
       "      <td>52.000000</td>\n",
       "      <td>52.000000</td>\n",
       "      <td>52.000000</td>\n",
       "      <td>52.000000</td>\n",
       "      <td>52.000000</td>\n",
       "      <td>52.000000</td>\n",
       "      <td>52.000000</td>\n",
       "    </tr>\n",
       "    <tr>\n",
       "      <th>mean</th>\n",
       "      <td>31.365385</td>\n",
       "      <td>2018.673077</td>\n",
       "      <td>33901.250000</td>\n",
       "      <td>29.038462</td>\n",
       "      <td>37.423077</td>\n",
       "      <td>176.865385</td>\n",
       "      <td>177.923077</td>\n",
       "      <td>1.832692</td>\n",
       "      <td>14.232693</td>\n",
       "      <td>4.038462</td>\n",
       "      <td>...</td>\n",
       "      <td>21763.423077</td>\n",
       "      <td>4.0</td>\n",
       "      <td>4.0</td>\n",
       "      <td>2.153846</td>\n",
       "      <td>6.307693</td>\n",
       "      <td>38.680771</td>\n",
       "      <td>42.467308</td>\n",
       "      <td>37.238468</td>\n",
       "      <td>37.632694</td>\n",
       "      <td>7.326923</td>\n",
       "    </tr>\n",
       "    <tr>\n",
       "      <th>std</th>\n",
       "      <td>15.378912</td>\n",
       "      <td>1.396370</td>\n",
       "      <td>22700.646139</td>\n",
       "      <td>5.947356</td>\n",
       "      <td>4.136619</td>\n",
       "      <td>33.793507</td>\n",
       "      <td>47.256433</td>\n",
       "      <td>0.379743</td>\n",
       "      <td>2.603973</td>\n",
       "      <td>0.277350</td>\n",
       "      <td>...</td>\n",
       "      <td>3532.455322</td>\n",
       "      <td>0.0</td>\n",
       "      <td>0.0</td>\n",
       "      <td>0.538138</td>\n",
       "      <td>0.755073</td>\n",
       "      <td>0.919087</td>\n",
       "      <td>1.045199</td>\n",
       "      <td>0.444202</td>\n",
       "      <td>1.604249</td>\n",
       "      <td>4.714272</td>\n",
       "    </tr>\n",
       "    <tr>\n",
       "      <th>min</th>\n",
       "      <td>3.000000</td>\n",
       "      <td>2014.000000</td>\n",
       "      <td>5000.000000</td>\n",
       "      <td>17.000000</td>\n",
       "      <td>24.000000</td>\n",
       "      <td>143.000000</td>\n",
       "      <td>99.000000</td>\n",
       "      <td>1.400000</td>\n",
       "      <td>7.000000</td>\n",
       "      <td>4.000000</td>\n",
       "      <td>...</td>\n",
       "      <td>13590.000000</td>\n",
       "      <td>4.0</td>\n",
       "      <td>4.0</td>\n",
       "      <td>2.000000</td>\n",
       "      <td>6.000000</td>\n",
       "      <td>37.500000</td>\n",
       "      <td>41.099998</td>\n",
       "      <td>35.799999</td>\n",
       "      <td>33.200001</td>\n",
       "      <td>1.000000</td>\n",
       "    </tr>\n",
       "    <tr>\n",
       "      <th>25%</th>\n",
       "      <td>18.750000</td>\n",
       "      <td>2018.000000</td>\n",
       "      <td>16454.750000</td>\n",
       "      <td>26.500000</td>\n",
       "      <td>35.750000</td>\n",
       "      <td>152.000000</td>\n",
       "      <td>138.000000</td>\n",
       "      <td>1.500000</td>\n",
       "      <td>12.400000</td>\n",
       "      <td>4.000000</td>\n",
       "      <td>...</td>\n",
       "      <td>19519.000000</td>\n",
       "      <td>4.0</td>\n",
       "      <td>4.0</td>\n",
       "      <td>2.000000</td>\n",
       "      <td>6.000000</td>\n",
       "      <td>37.724999</td>\n",
       "      <td>42.200001</td>\n",
       "      <td>37.074999</td>\n",
       "      <td>37.175001</td>\n",
       "      <td>4.000000</td>\n",
       "    </tr>\n",
       "    <tr>\n",
       "      <th>50%</th>\n",
       "      <td>31.500000</td>\n",
       "      <td>2019.000000</td>\n",
       "      <td>27448.500000</td>\n",
       "      <td>30.000000</td>\n",
       "      <td>38.000000</td>\n",
       "      <td>159.500000</td>\n",
       "      <td>181.000000</td>\n",
       "      <td>2.000000</td>\n",
       "      <td>13.600000</td>\n",
       "      <td>4.000000</td>\n",
       "      <td>...</td>\n",
       "      <td>21998.500000</td>\n",
       "      <td>4.0</td>\n",
       "      <td>4.0</td>\n",
       "      <td>2.000000</td>\n",
       "      <td>6.000000</td>\n",
       "      <td>38.500000</td>\n",
       "      <td>42.299999</td>\n",
       "      <td>37.200001</td>\n",
       "      <td>37.400002</td>\n",
       "      <td>6.000000</td>\n",
       "    </tr>\n",
       "    <tr>\n",
       "      <th>75%</th>\n",
       "      <td>44.250000</td>\n",
       "      <td>2019.250000</td>\n",
       "      <td>42442.000000</td>\n",
       "      <td>30.000000</td>\n",
       "      <td>40.000000</td>\n",
       "      <td>192.000000</td>\n",
       "      <td>192.000000</td>\n",
       "      <td>2.000000</td>\n",
       "      <td>15.050000</td>\n",
       "      <td>4.000000</td>\n",
       "      <td>...</td>\n",
       "      <td>22996.000000</td>\n",
       "      <td>4.0</td>\n",
       "      <td>4.0</td>\n",
       "      <td>2.000000</td>\n",
       "      <td>6.000000</td>\n",
       "      <td>39.299999</td>\n",
       "      <td>42.400002</td>\n",
       "      <td>37.500000</td>\n",
       "      <td>38.299999</td>\n",
       "      <td>10.000000</td>\n",
       "    </tr>\n",
       "    <tr>\n",
       "      <th>max</th>\n",
       "      <td>57.000000</td>\n",
       "      <td>2022.000000</td>\n",
       "      <td>97027.000000</td>\n",
       "      <td>55.000000</td>\n",
       "      <td>49.000000</td>\n",
       "      <td>288.000000</td>\n",
       "      <td>294.000000</td>\n",
       "      <td>3.500000</td>\n",
       "      <td>19.000000</td>\n",
       "      <td>6.000000</td>\n",
       "      <td>...</td>\n",
       "      <td>33777.000000</td>\n",
       "      <td>4.0</td>\n",
       "      <td>4.0</td>\n",
       "      <td>4.000000</td>\n",
       "      <td>9.000000</td>\n",
       "      <td>40.400002</td>\n",
       "      <td>45.500000</td>\n",
       "      <td>38.000000</td>\n",
       "      <td>40.400002</td>\n",
       "      <td>26.000000</td>\n",
       "    </tr>\n",
       "  </tbody>\n",
       "</table>\n",
       "<p>8 rows × 22 columns</p>\n",
       "</div>"
      ],
      "text/plain": [
       "              id         year         miles  city_mileage  highway_mileage  \\\n",
       "count  52.000000    52.000000     52.000000     52.000000        52.000000   \n",
       "mean   31.365385  2018.673077  33901.250000     29.038462        37.423077   \n",
       "std    15.378912     1.396370  22700.646139      5.947356         4.136619   \n",
       "min     3.000000  2014.000000   5000.000000     17.000000        24.000000   \n",
       "25%    18.750000  2018.000000  16454.750000     26.500000        35.750000   \n",
       "50%    31.500000  2019.000000  27448.500000     30.000000        38.000000   \n",
       "75%    44.250000  2019.250000  42442.000000     30.000000        40.000000   \n",
       "max    57.000000  2022.000000  97027.000000     55.000000        49.000000   \n",
       "\n",
       "       horsepower      torque  engine_capacity_litre  fuel_capacity  \\\n",
       "count   52.000000   52.000000              52.000000      52.000000   \n",
       "mean   176.865385  177.923077               1.832692      14.232693   \n",
       "std     33.793507   47.256433               0.379743       2.603973   \n",
       "min    143.000000   99.000000               1.400000       7.000000   \n",
       "25%    152.000000  138.000000               1.500000      12.400000   \n",
       "50%    159.500000  181.000000               2.000000      13.600000   \n",
       "75%    192.000000  192.000000               2.000000      15.050000   \n",
       "max    288.000000  294.000000               3.500000      19.000000   \n",
       "\n",
       "       num_cylinder  ...         price  condition  doors  wheel_drive  \\\n",
       "count     52.000000  ...     52.000000       52.0   52.0    52.000000   \n",
       "mean       4.038462  ...  21763.423077        4.0    4.0     2.153846   \n",
       "std        0.277350  ...   3532.455322        0.0    0.0     0.538138   \n",
       "min        4.000000  ...  13590.000000        4.0    4.0     2.000000   \n",
       "25%        4.000000  ...  19519.000000        4.0    4.0     2.000000   \n",
       "50%        4.000000  ...  21998.500000        4.0    4.0     2.000000   \n",
       "75%        4.000000  ...  22996.000000        4.0    4.0     2.000000   \n",
       "max        6.000000  ...  33777.000000        4.0    4.0     4.000000   \n",
       "\n",
       "       speed_levels  front_headroom  front_legroom  rear_headroom  \\\n",
       "count     52.000000       52.000000      52.000000      52.000000   \n",
       "mean       6.307693       38.680771      42.467308      37.238468   \n",
       "std        0.755073        0.919087       1.045199       0.444202   \n",
       "min        6.000000       37.500000      41.099998      35.799999   \n",
       "25%        6.000000       37.724999      42.200001      37.074999   \n",
       "50%        6.000000       38.500000      42.299999      37.200001   \n",
       "75%        6.000000       39.299999      42.400002      37.500000   \n",
       "max        9.000000       40.400002      45.500000      38.000000   \n",
       "\n",
       "       rear_legroom  service_records  \n",
       "count     52.000000        52.000000  \n",
       "mean      37.632694         7.326923  \n",
       "std        1.604249         4.714272  \n",
       "min       33.200001         1.000000  \n",
       "25%       37.175001         4.000000  \n",
       "50%       37.400002         6.000000  \n",
       "75%       38.299999        10.000000  \n",
       "max       40.400002        26.000000  \n",
       "\n",
       "[8 rows x 22 columns]"
      ]
     },
     "execution_count": 24,
     "metadata": {},
     "output_type": "execute_result"
    }
   ],
   "source": [
    "df.describe()"
   ]
  },
  {
   "cell_type": "markdown",
   "id": "d4405b24-6772-49d1-b2dc-f934ccb2845d",
   "metadata": {},
   "source": [
    "## 2.5. Отсев до определенного кол-во уникальных значений\n",
    "\n",
    "Для кодирования признаков OHE или OH будет черевато, если оставить много уникальных названия, потому что это приведет к созданию много новых признаков. Отсеиваем до небольших количеств, то есть сделаем так, чтобы создали максимум небольших новых закодированных признаков.."
   ]
  },
  {
   "cell_type": "code",
   "execution_count": 25,
   "id": "2fe9cde7-ba68-405a-b753-60bfa73a72d3",
   "metadata": {},
   "outputs": [],
   "source": [
    "# Сделаем копию датасета\n",
    "df_copy = df.copy()"
   ]
  },
  {
   "cell_type": "code",
   "execution_count": 26,
   "id": "4a8555c0-2f4d-4de7-ae42-e0e44530bcfc",
   "metadata": {},
   "outputs": [
    {
     "name": "stdout",
     "output_type": "stream",
     "text": [
      "<class 'pandas.core.frame.DataFrame'>\n",
      "RangeIndex: 52 entries, 0 to 51\n",
      "Data columns (total 27 columns):\n",
      " #   Column                 Non-Null Count  Dtype  \n",
      "---  ------                 --------------  -----  \n",
      " 0   id                     52 non-null     int32  \n",
      " 1   brand                  52 non-null     object \n",
      " 2   model                  52 non-null     object \n",
      " 3   year                   52 non-null     int32  \n",
      " 4   miles                  52 non-null     int32  \n",
      " 5   city_mileage           52 non-null     int32  \n",
      " 6   highway_mileage        52 non-null     int32  \n",
      " 7   horsepower             52 non-null     int32  \n",
      " 8   torque                 52 non-null     int32  \n",
      " 9   engine_capacity_litre  52 non-null     float32\n",
      " 10  fuel_capacity          52 non-null     float32\n",
      " 11  num_cylinder           52 non-null     int32  \n",
      " 12  num_seat               52 non-null     int32  \n",
      " 13  num_owners             52 non-null     int32  \n",
      " 14  price                  52 non-null     int32  \n",
      " 15  link                   52 non-null     object \n",
      " 16  condition              52 non-null     float32\n",
      " 17  type                   52 non-null     object \n",
      " 18  doors                  52 non-null     int32  \n",
      " 19  wheel_drive            52 non-null     int32  \n",
      " 20  engine_type            52 non-null     object \n",
      " 21  speed_levels           52 non-null     float32\n",
      " 22  front_headroom         52 non-null     float32\n",
      " 23  front_legroom          52 non-null     float32\n",
      " 24  rear_headroom          52 non-null     float32\n",
      " 25  rear_legroom           52 non-null     float32\n",
      " 26  service_records        52 non-null     int32  \n",
      "dtypes: float32(8), int32(14), object(5)\n",
      "memory usage: 6.6+ KB\n"
     ]
    }
   ],
   "source": [
    "df_copy.info()"
   ]
  },
  {
   "cell_type": "code",
   "execution_count": 27,
   "id": "ce073b2e-0697-4025-a61e-7d91ba9473eb",
   "metadata": {},
   "outputs": [],
   "source": [
    "# Функция, которая разделяет численные и категориальные признаки\n",
    "def divide_features(df):\n",
    "    numerical_features = df.select_dtypes(include=['number']).columns\n",
    "    categorical_features = df.select_dtypes(exclude=['number']).columns\n",
    "    \n",
    "    return numerical_features, categorical_features"
   ]
  },
  {
   "cell_type": "code",
   "execution_count": 28,
   "id": "c3faf320-091b-4cd9-a817-c453fa02027d",
   "metadata": {},
   "outputs": [],
   "source": [
    "numerical_features, categorical_features = divide_features(df)"
   ]
  },
  {
   "cell_type": "code",
   "execution_count": 29,
   "id": "fefcb153-b35d-4dba-9608-57a948c2c336",
   "metadata": {},
   "outputs": [
    {
     "name": "stdout",
     "output_type": "stream",
     "text": [
      "Численные признаки: ['id', 'year', 'miles', 'city_mileage', 'highway_mileage', 'horsepower', 'torque', 'engine_capacity_litre', 'fuel_capacity', 'num_cylinder', 'num_seat', 'num_owners', 'price', 'condition', 'doors', 'wheel_drive', 'speed_levels', 'front_headroom', 'front_legroom', 'rear_headroom', 'rear_legroom', 'service_records']\n"
     ]
    }
   ],
   "source": [
    "print(\"Численные признаки:\", numerical_features.to_list())"
   ]
  },
  {
   "cell_type": "code",
   "execution_count": 30,
   "id": "91fec0f0-dc5c-4826-b00b-cded7efee691",
   "metadata": {},
   "outputs": [
    {
     "name": "stdout",
     "output_type": "stream",
     "text": [
      "Нечисленные признаки: ['brand', 'model', 'link', 'type', 'engine_type']\n"
     ]
    }
   ],
   "source": [
    "print(\"Нечисленные признаки:\", categorical_features.to_list())"
   ]
  },
  {
   "cell_type": "code",
   "execution_count": 31,
   "id": "65f8f65f-4446-4cdb-a177-2254e9017d7e",
   "metadata": {},
   "outputs": [
    {
     "data": {
      "text/plain": [
       "brand\n",
       "Honda         23\n",
       "Volkswagen    11\n",
       "Hyundai        7\n",
       "Ford           5\n",
       "Chevrolet      3\n",
       "Subaru         3\n",
       "Name: count, dtype: int64"
      ]
     },
     "execution_count": 31,
     "metadata": {},
     "output_type": "execute_result"
    }
   ],
   "source": [
    "# Можно закодировать, ибо не так уж много разных уникальных признаков\n",
    "df_copy['brand'].value_counts()"
   ]
  },
  {
   "cell_type": "code",
   "execution_count": 32,
   "id": "86c4cc0a-4913-417c-9c9d-af51eed46bdb",
   "metadata": {},
   "outputs": [
    {
     "data": {
      "text/plain": [
       "model\n",
       "Civic         14\n",
       "Jetta          7\n",
       "Accord         7\n",
       "Elantra SE     4\n",
       "Passat         4\n",
       "Fusion         3\n",
       "Sonata         3\n",
       "Impreza        2\n",
       "Malibu         2\n",
       "Volt LT        1\n",
       "Focus          1\n",
       "Legacy         1\n",
       "Clarity        1\n",
       "Insight        1\n",
       "Taurus         1\n",
       "Name: count, dtype: int64"
      ]
     },
     "execution_count": 32,
     "metadata": {},
     "output_type": "execute_result"
    }
   ],
   "source": [
    "# Можно закодировать, ибо не так уж много разных уникальных признаков\n",
    "df_copy['model'].value_counts()"
   ]
  },
  {
   "cell_type": "code",
   "execution_count": 33,
   "id": "0e537738-35be-4ddf-8242-b71d5fe8478a",
   "metadata": {},
   "outputs": [
    {
     "data": {
      "text/plain": [
       "type\n",
       "sedan    52\n",
       "Name: count, dtype: int64"
      ]
     },
     "execution_count": 33,
     "metadata": {},
     "output_type": "execute_result"
    }
   ],
   "source": [
    "# Можно закодировать, ибо не так уж много разных уникальных признаков\n",
    "df_copy['type'].value_counts()"
   ]
  },
  {
   "cell_type": "code",
   "execution_count": 34,
   "id": "e32f4f0f-dbd2-4b69-bd5e-1259ee1fa835",
   "metadata": {},
   "outputs": [
    {
     "data": {
      "text/plain": [
       "engine_type\n",
       "gas                    49\n",
       "hybrid_gas_electric     3\n",
       "Name: count, dtype: int64"
      ]
     },
     "execution_count": 34,
     "metadata": {},
     "output_type": "execute_result"
    }
   ],
   "source": [
    "# Можно закодировать, ибо не так уж много разных уникальных признаков\n",
    "df_copy['engine_type'].value_counts()"
   ]
  },
  {
   "cell_type": "markdown",
   "id": "f4729c25-a7dc-4312-90c8-568d56ed4e30",
   "metadata": {},
   "source": [
    "# 3. Машинное обучение"
   ]
  },
  {
   "cell_type": "code",
   "execution_count": 35,
   "id": "d725e330-9070-41fc-bf16-53a4d1c57e2d",
   "metadata": {},
   "outputs": [],
   "source": [
    "# Здесь сохраняем результаты машинного обучения\n",
    "results = pd.DataFrame()\n",
    "\n",
    "# Счетчтик для нумерация моеделй\n",
    "count_model = 0"
   ]
  },
  {
   "cell_type": "markdown",
   "id": "8b277aa5-43a6-4e11-944d-d02184073542",
   "metadata": {},
   "source": [
    "## 3.1. Деление на обучающей и тестовой выборки"
   ]
  },
  {
   "cell_type": "code",
   "execution_count": 36,
   "id": "d5c4d1a1-6c30-454c-9b33-bc91f6c7ef5b",
   "metadata": {},
   "outputs": [],
   "source": [
    "# Получаем признак и цель \n",
    "features = df.drop(['price', 'link'], axis=1)\n",
    "target = df['price']"
   ]
  },
  {
   "cell_type": "code",
   "execution_count": 37,
   "id": "85976308-21d2-43eb-8354-916182bcb02b",
   "metadata": {},
   "outputs": [],
   "source": [
    "# Разделим на обучающую и тестовую выборку\n",
    "features_train, features_test, target_train, target_test = train_test_split(features, target, test_size=0.2, random_state=12345)"
   ]
  },
  {
   "cell_type": "markdown",
   "id": "2d147116-1544-4831-9fa1-3f26aea6f773",
   "metadata": {},
   "source": [
    "## 3.2. Кодирование признаков - прямое кодирование (One-Hot Encoding)"
   ]
  },
  {
   "cell_type": "markdown",
   "id": "1ab7d01d-65ee-4e7c-aaf5-5558eb13825d",
   "metadata": {},
   "source": [
    "Закодируем признаки: `brand`, `model`, `type`, `engine type`"
   ]
  },
  {
   "cell_type": "markdown",
   "id": "c4c5ea8d-7775-4745-a8e9-f23fa0de6fe7",
   "metadata": {},
   "source": [
    "_**Памятка себе:**_\n",
    "\n",
    "**Модели основанные на деревьях (все модели в проекте кроме Линейной) могут работать с порядковым кодированием категорий (OrdinalEncoding).**\n",
    "\n",
    "**OHE сильно раздувает размерность данных, что сказывается на вычислительной нагрузке (времени).**"
   ]
  },
  {
   "cell_type": "code",
   "execution_count": 38,
   "id": "7eaf3a01-1bca-49e2-b909-684ad4c29675",
   "metadata": {},
   "outputs": [],
   "source": [
    "# Выбираем категориальные признаки\n",
    "# 'brand', 'model', 'type', 'engine_type'\n",
    "categorical_features = ['brand', 'model', 'type', 'engine_type']"
   ]
  },
  {
   "cell_type": "code",
   "execution_count": 39,
   "id": "3e769c46-adf8-4339-82f7-7c0dea53d505",
   "metadata": {},
   "outputs": [
    {
     "data": {
      "text/html": [
       "<style>#sk-container-id-1 {color: black;}#sk-container-id-1 pre{padding: 0;}#sk-container-id-1 div.sk-toggleable {background-color: white;}#sk-container-id-1 label.sk-toggleable__label {cursor: pointer;display: block;width: 100%;margin-bottom: 0;padding: 0.3em;box-sizing: border-box;text-align: center;}#sk-container-id-1 label.sk-toggleable__label-arrow:before {content: \"▸\";float: left;margin-right: 0.25em;color: #696969;}#sk-container-id-1 label.sk-toggleable__label-arrow:hover:before {color: black;}#sk-container-id-1 div.sk-estimator:hover label.sk-toggleable__label-arrow:before {color: black;}#sk-container-id-1 div.sk-toggleable__content {max-height: 0;max-width: 0;overflow: hidden;text-align: left;background-color: #f0f8ff;}#sk-container-id-1 div.sk-toggleable__content pre {margin: 0.2em;color: black;border-radius: 0.25em;background-color: #f0f8ff;}#sk-container-id-1 input.sk-toggleable__control:checked~div.sk-toggleable__content {max-height: 200px;max-width: 100%;overflow: auto;}#sk-container-id-1 input.sk-toggleable__control:checked~label.sk-toggleable__label-arrow:before {content: \"▾\";}#sk-container-id-1 div.sk-estimator input.sk-toggleable__control:checked~label.sk-toggleable__label {background-color: #d4ebff;}#sk-container-id-1 div.sk-label input.sk-toggleable__control:checked~label.sk-toggleable__label {background-color: #d4ebff;}#sk-container-id-1 input.sk-hidden--visually {border: 0;clip: rect(1px 1px 1px 1px);clip: rect(1px, 1px, 1px, 1px);height: 1px;margin: -1px;overflow: hidden;padding: 0;position: absolute;width: 1px;}#sk-container-id-1 div.sk-estimator {font-family: monospace;background-color: #f0f8ff;border: 1px dotted black;border-radius: 0.25em;box-sizing: border-box;margin-bottom: 0.5em;}#sk-container-id-1 div.sk-estimator:hover {background-color: #d4ebff;}#sk-container-id-1 div.sk-parallel-item::after {content: \"\";width: 100%;border-bottom: 1px solid gray;flex-grow: 1;}#sk-container-id-1 div.sk-label:hover label.sk-toggleable__label {background-color: #d4ebff;}#sk-container-id-1 div.sk-serial::before {content: \"\";position: absolute;border-left: 1px solid gray;box-sizing: border-box;top: 0;bottom: 0;left: 50%;z-index: 0;}#sk-container-id-1 div.sk-serial {display: flex;flex-direction: column;align-items: center;background-color: white;padding-right: 0.2em;padding-left: 0.2em;position: relative;}#sk-container-id-1 div.sk-item {position: relative;z-index: 1;}#sk-container-id-1 div.sk-parallel {display: flex;align-items: stretch;justify-content: center;background-color: white;position: relative;}#sk-container-id-1 div.sk-item::before, #sk-container-id-1 div.sk-parallel-item::before {content: \"\";position: absolute;border-left: 1px solid gray;box-sizing: border-box;top: 0;bottom: 0;left: 50%;z-index: -1;}#sk-container-id-1 div.sk-parallel-item {display: flex;flex-direction: column;z-index: 1;position: relative;background-color: white;}#sk-container-id-1 div.sk-parallel-item:first-child::after {align-self: flex-end;width: 50%;}#sk-container-id-1 div.sk-parallel-item:last-child::after {align-self: flex-start;width: 50%;}#sk-container-id-1 div.sk-parallel-item:only-child::after {width: 0;}#sk-container-id-1 div.sk-dashed-wrapped {border: 1px dashed gray;margin: 0 0.4em 0.5em 0.4em;box-sizing: border-box;padding-bottom: 0.4em;background-color: white;}#sk-container-id-1 div.sk-label label {font-family: monospace;font-weight: bold;display: inline-block;line-height: 1.2em;}#sk-container-id-1 div.sk-label-container {text-align: center;}#sk-container-id-1 div.sk-container {/* jupyter's `normalize.less` sets `[hidden] { display: none; }` but bootstrap.min.css set `[hidden] { display: none !important; }` so we also need the `!important` here to be able to override the default hidden behavior on the sphinx rendered scikit-learn.org. See: https://github.com/scikit-learn/scikit-learn/issues/21755 */display: inline-block !important;position: relative;}#sk-container-id-1 div.sk-text-repr-fallback {display: none;}</style><div id=\"sk-container-id-1\" class=\"sk-top-container\"><div class=\"sk-text-repr-fallback\"><pre>OneHotEncoder(drop=&#x27;first&#x27;, handle_unknown=&#x27;ignore&#x27;, sparse_output=False)</pre><b>In a Jupyter environment, please rerun this cell to show the HTML representation or trust the notebook. <br />On GitHub, the HTML representation is unable to render, please try loading this page with nbviewer.org.</b></div><div class=\"sk-container\" hidden><div class=\"sk-item\"><div class=\"sk-estimator sk-toggleable\"><input class=\"sk-toggleable__control sk-hidden--visually\" id=\"sk-estimator-id-1\" type=\"checkbox\" checked><label for=\"sk-estimator-id-1\" class=\"sk-toggleable__label sk-toggleable__label-arrow\">OneHotEncoder</label><div class=\"sk-toggleable__content\"><pre>OneHotEncoder(drop=&#x27;first&#x27;, handle_unknown=&#x27;ignore&#x27;, sparse_output=False)</pre></div></div></div></div></div>"
      ],
      "text/plain": [
       "OneHotEncoder(drop='first', handle_unknown='ignore', sparse_output=False)"
      ]
     },
     "metadata": {},
     "output_type": "display_data"
    }
   ],
   "source": [
    "# Кодируем\n",
    "encoder_ohe = OneHotEncoder(drop='first', handle_unknown='ignore', sparse_output=False)\n",
    "display(encoder_ohe)"
   ]
  },
  {
   "cell_type": "code",
   "execution_count": 40,
   "id": "5ef445db-cb73-4620-8a2e-401368639b14",
   "metadata": {},
   "outputs": [
    {
     "data": {
      "text/html": [
       "<style>#sk-container-id-2 {color: black;}#sk-container-id-2 pre{padding: 0;}#sk-container-id-2 div.sk-toggleable {background-color: white;}#sk-container-id-2 label.sk-toggleable__label {cursor: pointer;display: block;width: 100%;margin-bottom: 0;padding: 0.3em;box-sizing: border-box;text-align: center;}#sk-container-id-2 label.sk-toggleable__label-arrow:before {content: \"▸\";float: left;margin-right: 0.25em;color: #696969;}#sk-container-id-2 label.sk-toggleable__label-arrow:hover:before {color: black;}#sk-container-id-2 div.sk-estimator:hover label.sk-toggleable__label-arrow:before {color: black;}#sk-container-id-2 div.sk-toggleable__content {max-height: 0;max-width: 0;overflow: hidden;text-align: left;background-color: #f0f8ff;}#sk-container-id-2 div.sk-toggleable__content pre {margin: 0.2em;color: black;border-radius: 0.25em;background-color: #f0f8ff;}#sk-container-id-2 input.sk-toggleable__control:checked~div.sk-toggleable__content {max-height: 200px;max-width: 100%;overflow: auto;}#sk-container-id-2 input.sk-toggleable__control:checked~label.sk-toggleable__label-arrow:before {content: \"▾\";}#sk-container-id-2 div.sk-estimator input.sk-toggleable__control:checked~label.sk-toggleable__label {background-color: #d4ebff;}#sk-container-id-2 div.sk-label input.sk-toggleable__control:checked~label.sk-toggleable__label {background-color: #d4ebff;}#sk-container-id-2 input.sk-hidden--visually {border: 0;clip: rect(1px 1px 1px 1px);clip: rect(1px, 1px, 1px, 1px);height: 1px;margin: -1px;overflow: hidden;padding: 0;position: absolute;width: 1px;}#sk-container-id-2 div.sk-estimator {font-family: monospace;background-color: #f0f8ff;border: 1px dotted black;border-radius: 0.25em;box-sizing: border-box;margin-bottom: 0.5em;}#sk-container-id-2 div.sk-estimator:hover {background-color: #d4ebff;}#sk-container-id-2 div.sk-parallel-item::after {content: \"\";width: 100%;border-bottom: 1px solid gray;flex-grow: 1;}#sk-container-id-2 div.sk-label:hover label.sk-toggleable__label {background-color: #d4ebff;}#sk-container-id-2 div.sk-serial::before {content: \"\";position: absolute;border-left: 1px solid gray;box-sizing: border-box;top: 0;bottom: 0;left: 50%;z-index: 0;}#sk-container-id-2 div.sk-serial {display: flex;flex-direction: column;align-items: center;background-color: white;padding-right: 0.2em;padding-left: 0.2em;position: relative;}#sk-container-id-2 div.sk-item {position: relative;z-index: 1;}#sk-container-id-2 div.sk-parallel {display: flex;align-items: stretch;justify-content: center;background-color: white;position: relative;}#sk-container-id-2 div.sk-item::before, #sk-container-id-2 div.sk-parallel-item::before {content: \"\";position: absolute;border-left: 1px solid gray;box-sizing: border-box;top: 0;bottom: 0;left: 50%;z-index: -1;}#sk-container-id-2 div.sk-parallel-item {display: flex;flex-direction: column;z-index: 1;position: relative;background-color: white;}#sk-container-id-2 div.sk-parallel-item:first-child::after {align-self: flex-end;width: 50%;}#sk-container-id-2 div.sk-parallel-item:last-child::after {align-self: flex-start;width: 50%;}#sk-container-id-2 div.sk-parallel-item:only-child::after {width: 0;}#sk-container-id-2 div.sk-dashed-wrapped {border: 1px dashed gray;margin: 0 0.4em 0.5em 0.4em;box-sizing: border-box;padding-bottom: 0.4em;background-color: white;}#sk-container-id-2 div.sk-label label {font-family: monospace;font-weight: bold;display: inline-block;line-height: 1.2em;}#sk-container-id-2 div.sk-label-container {text-align: center;}#sk-container-id-2 div.sk-container {/* jupyter's `normalize.less` sets `[hidden] { display: none; }` but bootstrap.min.css set `[hidden] { display: none !important; }` so we also need the `!important` here to be able to override the default hidden behavior on the sphinx rendered scikit-learn.org. See: https://github.com/scikit-learn/scikit-learn/issues/21755 */display: inline-block !important;position: relative;}#sk-container-id-2 div.sk-text-repr-fallback {display: none;}</style><div id=\"sk-container-id-2\" class=\"sk-top-container\"><div class=\"sk-text-repr-fallback\"><pre>OneHotEncoder(drop=&#x27;first&#x27;, handle_unknown=&#x27;ignore&#x27;, sparse_output=False)</pre><b>In a Jupyter environment, please rerun this cell to show the HTML representation or trust the notebook. <br />On GitHub, the HTML representation is unable to render, please try loading this page with nbviewer.org.</b></div><div class=\"sk-container\" hidden><div class=\"sk-item\"><div class=\"sk-estimator sk-toggleable\"><input class=\"sk-toggleable__control sk-hidden--visually\" id=\"sk-estimator-id-2\" type=\"checkbox\" checked><label for=\"sk-estimator-id-2\" class=\"sk-toggleable__label sk-toggleable__label-arrow\">OneHotEncoder</label><div class=\"sk-toggleable__content\"><pre>OneHotEncoder(drop=&#x27;first&#x27;, handle_unknown=&#x27;ignore&#x27;, sparse_output=False)</pre></div></div></div></div></div>"
      ],
      "text/plain": [
       "OneHotEncoder(drop='first', handle_unknown='ignore', sparse_output=False)"
      ]
     },
     "execution_count": 40,
     "metadata": {},
     "output_type": "execute_result"
    }
   ],
   "source": [
    "# Обучаем энкодер на заданных категориальных признаках тренировочной выборки\n",
    "encoder_ohe.fit(features_train[categorical_features])"
   ]
  },
  {
   "cell_type": "code",
   "execution_count": 41,
   "id": "3aa816eb-f4ca-430f-b5d7-b5f59f6283ce",
   "metadata": {},
   "outputs": [],
   "source": [
    "# Добавляем закодированные признаки в X_train_ohe\n",
    "# Encoder_ohe.get_feature_names_out() позволяет получить названия колонок\n",
    "features_train[encoder_ohe.get_feature_names_out()] = encoder_ohe.transform(features_train[categorical_features])"
   ]
  },
  {
   "cell_type": "code",
   "execution_count": 42,
   "id": "0c5b64e3-fcdd-4a9b-902b-d9f72bd6682b",
   "metadata": {},
   "outputs": [
    {
     "name": "stderr",
     "output_type": "stream",
     "text": [
      "C:\\Users\\nikis\\AppData\\Local\\Programs\\Python\\Python39\\lib\\site-packages\\sklearn\\preprocessing\\_encoders.py:228: UserWarning: Found unknown categories in columns [1] during transform. These unknown categories will be encoded as all zeros\n",
      "  warnings.warn(\n"
     ]
    }
   ],
   "source": [
    "# Энкодером, который обучен на тренировочной выборке, кодируем тестовую\n",
    "features_test[encoder_ohe.get_feature_names_out()] = encoder_ohe.transform(features_test[categorical_features])"
   ]
  },
  {
   "cell_type": "code",
   "execution_count": 43,
   "id": "e635d2a8-84fe-4eaa-b3d4-b466f4b91496",
   "metadata": {},
   "outputs": [],
   "source": [
    "# удаляем незакодированные категориальные признаки (изначальные колонки)\n",
    "features_train = features_train.drop(categorical_features, axis=1)\n",
    "features_test = features_test.drop(categorical_features, axis=1)"
   ]
  },
  {
   "cell_type": "code",
   "execution_count": 44,
   "id": "6c3b62e6-4bbd-4911-87e3-06c850c817b1",
   "metadata": {},
   "outputs": [
    {
     "data": {
      "text/html": [
       "<div>\n",
       "<style scoped>\n",
       "    .dataframe tbody tr th:only-of-type {\n",
       "        vertical-align: middle;\n",
       "    }\n",
       "\n",
       "    .dataframe tbody tr th {\n",
       "        vertical-align: top;\n",
       "    }\n",
       "\n",
       "    .dataframe thead th {\n",
       "        text-align: right;\n",
       "    }\n",
       "</style>\n",
       "<table border=\"1\" class=\"dataframe\">\n",
       "  <thead>\n",
       "    <tr style=\"text-align: right;\">\n",
       "      <th></th>\n",
       "      <th>id</th>\n",
       "      <th>year</th>\n",
       "      <th>miles</th>\n",
       "      <th>city_mileage</th>\n",
       "      <th>highway_mileage</th>\n",
       "      <th>horsepower</th>\n",
       "      <th>torque</th>\n",
       "      <th>engine_capacity_litre</th>\n",
       "      <th>fuel_capacity</th>\n",
       "      <th>num_cylinder</th>\n",
       "      <th>...</th>\n",
       "      <th>model_Focus</th>\n",
       "      <th>model_Fusion</th>\n",
       "      <th>model_Impreza</th>\n",
       "      <th>model_Insight</th>\n",
       "      <th>model_Jetta</th>\n",
       "      <th>model_Malibu</th>\n",
       "      <th>model_Passat</th>\n",
       "      <th>model_Taurus</th>\n",
       "      <th>model_Volt LT</th>\n",
       "      <th>engine_type_hybrid_gas_electric</th>\n",
       "    </tr>\n",
       "  </thead>\n",
       "  <tbody>\n",
       "    <tr>\n",
       "      <th>8</th>\n",
       "      <td>14</td>\n",
       "      <td>2019</td>\n",
       "      <td>25044</td>\n",
       "      <td>30</td>\n",
       "      <td>40</td>\n",
       "      <td>147</td>\n",
       "      <td>184</td>\n",
       "      <td>1.4</td>\n",
       "      <td>13.2</td>\n",
       "      <td>4</td>\n",
       "      <td>...</td>\n",
       "      <td>0.0</td>\n",
       "      <td>0.0</td>\n",
       "      <td>0.0</td>\n",
       "      <td>0.0</td>\n",
       "      <td>1.0</td>\n",
       "      <td>0.0</td>\n",
       "      <td>0.0</td>\n",
       "      <td>0.0</td>\n",
       "      <td>0.0</td>\n",
       "      <td>0.0</td>\n",
       "    </tr>\n",
       "    <tr>\n",
       "      <th>21</th>\n",
       "      <td>27</td>\n",
       "      <td>2020</td>\n",
       "      <td>35743</td>\n",
       "      <td>20</td>\n",
       "      <td>29</td>\n",
       "      <td>245</td>\n",
       "      <td>275</td>\n",
       "      <td>2.0</td>\n",
       "      <td>18.0</td>\n",
       "      <td>4</td>\n",
       "      <td>...</td>\n",
       "      <td>0.0</td>\n",
       "      <td>1.0</td>\n",
       "      <td>0.0</td>\n",
       "      <td>0.0</td>\n",
       "      <td>0.0</td>\n",
       "      <td>0.0</td>\n",
       "      <td>0.0</td>\n",
       "      <td>0.0</td>\n",
       "      <td>0.0</td>\n",
       "      <td>0.0</td>\n",
       "    </tr>\n",
       "    <tr>\n",
       "      <th>19</th>\n",
       "      <td>25</td>\n",
       "      <td>2019</td>\n",
       "      <td>24250</td>\n",
       "      <td>30</td>\n",
       "      <td>40</td>\n",
       "      <td>147</td>\n",
       "      <td>184</td>\n",
       "      <td>1.4</td>\n",
       "      <td>13.2</td>\n",
       "      <td>4</td>\n",
       "      <td>...</td>\n",
       "      <td>0.0</td>\n",
       "      <td>0.0</td>\n",
       "      <td>0.0</td>\n",
       "      <td>0.0</td>\n",
       "      <td>1.0</td>\n",
       "      <td>0.0</td>\n",
       "      <td>0.0</td>\n",
       "      <td>0.0</td>\n",
       "      <td>0.0</td>\n",
       "      <td>0.0</td>\n",
       "    </tr>\n",
       "    <tr>\n",
       "      <th>2</th>\n",
       "      <td>7</td>\n",
       "      <td>2014</td>\n",
       "      <td>97027</td>\n",
       "      <td>27</td>\n",
       "      <td>37</td>\n",
       "      <td>159</td>\n",
       "      <td>146</td>\n",
       "      <td>2.0</td>\n",
       "      <td>12.4</td>\n",
       "      <td>4</td>\n",
       "      <td>...</td>\n",
       "      <td>1.0</td>\n",
       "      <td>0.0</td>\n",
       "      <td>0.0</td>\n",
       "      <td>0.0</td>\n",
       "      <td>0.0</td>\n",
       "      <td>0.0</td>\n",
       "      <td>0.0</td>\n",
       "      <td>0.0</td>\n",
       "      <td>0.0</td>\n",
       "      <td>0.0</td>\n",
       "    </tr>\n",
       "    <tr>\n",
       "      <th>20</th>\n",
       "      <td>26</td>\n",
       "      <td>2019</td>\n",
       "      <td>38097</td>\n",
       "      <td>17</td>\n",
       "      <td>24</td>\n",
       "      <td>288</td>\n",
       "      <td>254</td>\n",
       "      <td>3.5</td>\n",
       "      <td>19.0</td>\n",
       "      <td>6</td>\n",
       "      <td>...</td>\n",
       "      <td>0.0</td>\n",
       "      <td>0.0</td>\n",
       "      <td>0.0</td>\n",
       "      <td>0.0</td>\n",
       "      <td>0.0</td>\n",
       "      <td>0.0</td>\n",
       "      <td>0.0</td>\n",
       "      <td>1.0</td>\n",
       "      <td>0.0</td>\n",
       "      <td>0.0</td>\n",
       "    </tr>\n",
       "  </tbody>\n",
       "</table>\n",
       "<p>5 rows × 39 columns</p>\n",
       "</div>"
      ],
      "text/plain": [
       "    id  year  miles  city_mileage  highway_mileage  horsepower  torque  \\\n",
       "8   14  2019  25044            30               40         147     184   \n",
       "21  27  2020  35743            20               29         245     275   \n",
       "19  25  2019  24250            30               40         147     184   \n",
       "2    7  2014  97027            27               37         159     146   \n",
       "20  26  2019  38097            17               24         288     254   \n",
       "\n",
       "    engine_capacity_litre  fuel_capacity  num_cylinder  ...  model_Focus  \\\n",
       "8                     1.4           13.2             4  ...          0.0   \n",
       "21                    2.0           18.0             4  ...          0.0   \n",
       "19                    1.4           13.2             4  ...          0.0   \n",
       "2                     2.0           12.4             4  ...          1.0   \n",
       "20                    3.5           19.0             6  ...          0.0   \n",
       "\n",
       "    model_Fusion  model_Impreza  model_Insight  model_Jetta  model_Malibu  \\\n",
       "8            0.0            0.0            0.0          1.0           0.0   \n",
       "21           1.0            0.0            0.0          0.0           0.0   \n",
       "19           0.0            0.0            0.0          1.0           0.0   \n",
       "2            0.0            0.0            0.0          0.0           0.0   \n",
       "20           0.0            0.0            0.0          0.0           0.0   \n",
       "\n",
       "    model_Passat  model_Taurus  model_Volt LT  engine_type_hybrid_gas_electric  \n",
       "8            0.0           0.0            0.0                              0.0  \n",
       "21           0.0           0.0            0.0                              0.0  \n",
       "19           0.0           0.0            0.0                              0.0  \n",
       "2            0.0           0.0            0.0                              0.0  \n",
       "20           0.0           1.0            0.0                              0.0  \n",
       "\n",
       "[5 rows x 39 columns]"
      ]
     },
     "metadata": {},
     "output_type": "display_data"
    },
    {
     "data": {
      "text/html": [
       "<div>\n",
       "<style scoped>\n",
       "    .dataframe tbody tr th:only-of-type {\n",
       "        vertical-align: middle;\n",
       "    }\n",
       "\n",
       "    .dataframe tbody tr th {\n",
       "        vertical-align: top;\n",
       "    }\n",
       "\n",
       "    .dataframe thead th {\n",
       "        text-align: right;\n",
       "    }\n",
       "</style>\n",
       "<table border=\"1\" class=\"dataframe\">\n",
       "  <thead>\n",
       "    <tr style=\"text-align: right;\">\n",
       "      <th></th>\n",
       "      <th>id</th>\n",
       "      <th>year</th>\n",
       "      <th>miles</th>\n",
       "      <th>city_mileage</th>\n",
       "      <th>highway_mileage</th>\n",
       "      <th>horsepower</th>\n",
       "      <th>torque</th>\n",
       "      <th>engine_capacity_litre</th>\n",
       "      <th>fuel_capacity</th>\n",
       "      <th>num_cylinder</th>\n",
       "      <th>...</th>\n",
       "      <th>model_Focus</th>\n",
       "      <th>model_Fusion</th>\n",
       "      <th>model_Impreza</th>\n",
       "      <th>model_Insight</th>\n",
       "      <th>model_Jetta</th>\n",
       "      <th>model_Malibu</th>\n",
       "      <th>model_Passat</th>\n",
       "      <th>model_Taurus</th>\n",
       "      <th>model_Volt LT</th>\n",
       "      <th>engine_type_hybrid_gas_electric</th>\n",
       "    </tr>\n",
       "  </thead>\n",
       "  <tbody>\n",
       "    <tr>\n",
       "      <th>26</th>\n",
       "      <td>32</td>\n",
       "      <td>2020</td>\n",
       "      <td>12395</td>\n",
       "      <td>30</td>\n",
       "      <td>38</td>\n",
       "      <td>192</td>\n",
       "      <td>192</td>\n",
       "      <td>1.5</td>\n",
       "      <td>14.8</td>\n",
       "      <td>4</td>\n",
       "      <td>...</td>\n",
       "      <td>0.0</td>\n",
       "      <td>0.0</td>\n",
       "      <td>0.0</td>\n",
       "      <td>0.0</td>\n",
       "      <td>0.0</td>\n",
       "      <td>0.0</td>\n",
       "      <td>0.0</td>\n",
       "      <td>0.0</td>\n",
       "      <td>0.0</td>\n",
       "      <td>0.0</td>\n",
       "    </tr>\n",
       "    <tr>\n",
       "      <th>39</th>\n",
       "      <td>45</td>\n",
       "      <td>2020</td>\n",
       "      <td>36506</td>\n",
       "      <td>21</td>\n",
       "      <td>31</td>\n",
       "      <td>245</td>\n",
       "      <td>275</td>\n",
       "      <td>2.0</td>\n",
       "      <td>16.5</td>\n",
       "      <td>4</td>\n",
       "      <td>...</td>\n",
       "      <td>0.0</td>\n",
       "      <td>1.0</td>\n",
       "      <td>0.0</td>\n",
       "      <td>0.0</td>\n",
       "      <td>0.0</td>\n",
       "      <td>0.0</td>\n",
       "      <td>0.0</td>\n",
       "      <td>0.0</td>\n",
       "      <td>0.0</td>\n",
       "      <td>0.0</td>\n",
       "    </tr>\n",
       "    <tr>\n",
       "      <th>38</th>\n",
       "      <td>44</td>\n",
       "      <td>2018</td>\n",
       "      <td>51279</td>\n",
       "      <td>30</td>\n",
       "      <td>38</td>\n",
       "      <td>192</td>\n",
       "      <td>192</td>\n",
       "      <td>1.5</td>\n",
       "      <td>14.8</td>\n",
       "      <td>4</td>\n",
       "      <td>...</td>\n",
       "      <td>0.0</td>\n",
       "      <td>0.0</td>\n",
       "      <td>0.0</td>\n",
       "      <td>0.0</td>\n",
       "      <td>0.0</td>\n",
       "      <td>0.0</td>\n",
       "      <td>0.0</td>\n",
       "      <td>0.0</td>\n",
       "      <td>0.0</td>\n",
       "      <td>0.0</td>\n",
       "    </tr>\n",
       "    <tr>\n",
       "      <th>25</th>\n",
       "      <td>31</td>\n",
       "      <td>2020</td>\n",
       "      <td>27457</td>\n",
       "      <td>23</td>\n",
       "      <td>34</td>\n",
       "      <td>174</td>\n",
       "      <td>206</td>\n",
       "      <td>2.0</td>\n",
       "      <td>18.5</td>\n",
       "      <td>4</td>\n",
       "      <td>...</td>\n",
       "      <td>0.0</td>\n",
       "      <td>0.0</td>\n",
       "      <td>0.0</td>\n",
       "      <td>0.0</td>\n",
       "      <td>0.0</td>\n",
       "      <td>0.0</td>\n",
       "      <td>1.0</td>\n",
       "      <td>0.0</td>\n",
       "      <td>0.0</td>\n",
       "      <td>0.0</td>\n",
       "    </tr>\n",
       "    <tr>\n",
       "      <th>6</th>\n",
       "      <td>12</td>\n",
       "      <td>2022</td>\n",
       "      <td>6811</td>\n",
       "      <td>27</td>\n",
       "      <td>35</td>\n",
       "      <td>182</td>\n",
       "      <td>176</td>\n",
       "      <td>2.5</td>\n",
       "      <td>18.5</td>\n",
       "      <td>4</td>\n",
       "      <td>...</td>\n",
       "      <td>0.0</td>\n",
       "      <td>0.0</td>\n",
       "      <td>0.0</td>\n",
       "      <td>0.0</td>\n",
       "      <td>0.0</td>\n",
       "      <td>0.0</td>\n",
       "      <td>0.0</td>\n",
       "      <td>0.0</td>\n",
       "      <td>0.0</td>\n",
       "      <td>0.0</td>\n",
       "    </tr>\n",
       "  </tbody>\n",
       "</table>\n",
       "<p>5 rows × 39 columns</p>\n",
       "</div>"
      ],
      "text/plain": [
       "    id  year  miles  city_mileage  highway_mileage  horsepower  torque  \\\n",
       "26  32  2020  12395            30               38         192     192   \n",
       "39  45  2020  36506            21               31         245     275   \n",
       "38  44  2018  51279            30               38         192     192   \n",
       "25  31  2020  27457            23               34         174     206   \n",
       "6   12  2022   6811            27               35         182     176   \n",
       "\n",
       "    engine_capacity_litre  fuel_capacity  num_cylinder  ...  model_Focus  \\\n",
       "26                    1.5           14.8             4  ...          0.0   \n",
       "39                    2.0           16.5             4  ...          0.0   \n",
       "38                    1.5           14.8             4  ...          0.0   \n",
       "25                    2.0           18.5             4  ...          0.0   \n",
       "6                     2.5           18.5             4  ...          0.0   \n",
       "\n",
       "    model_Fusion  model_Impreza  model_Insight  model_Jetta  model_Malibu  \\\n",
       "26           0.0            0.0            0.0          0.0           0.0   \n",
       "39           1.0            0.0            0.0          0.0           0.0   \n",
       "38           0.0            0.0            0.0          0.0           0.0   \n",
       "25           0.0            0.0            0.0          0.0           0.0   \n",
       "6            0.0            0.0            0.0          0.0           0.0   \n",
       "\n",
       "    model_Passat  model_Taurus  model_Volt LT  engine_type_hybrid_gas_electric  \n",
       "26           0.0           0.0            0.0                              0.0  \n",
       "39           0.0           0.0            0.0                              0.0  \n",
       "38           0.0           0.0            0.0                              0.0  \n",
       "25           1.0           0.0            0.0                              0.0  \n",
       "6            0.0           0.0            0.0                              0.0  \n",
       "\n",
       "[5 rows x 39 columns]"
      ]
     },
     "metadata": {},
     "output_type": "display_data"
    }
   ],
   "source": [
    "display(features_train.head())\n",
    "display(features_test.head())"
   ]
  },
  {
   "cell_type": "code",
   "execution_count": 45,
   "id": "a6389c75-1f83-4b36-abb5-4197bd272f31",
   "metadata": {},
   "outputs": [],
   "source": [
    "# Устраняем случайные и возможные пропуски для избежания ошибок\n",
    "features_train = features_train.dropna()\n",
    "target_train = target_train[features_train.index]\n",
    "\n",
    "features_test = features_test.dropna()\n",
    "target_test = target_test[features_test.index]"
   ]
  },
  {
   "cell_type": "markdown",
   "id": "63e2a504-be52-4f94-bb6f-c94b152f1646",
   "metadata": {},
   "source": [
    "## 3.3. Обучение модели"
   ]
  },
  {
   "cell_type": "markdown",
   "id": "036b3af4-7ab1-4a7d-affa-123506c4edbe",
   "metadata": {},
   "source": [
    "### 3.3.2. LinearRegression"
   ]
  },
  {
   "cell_type": "code",
   "execution_count": 46,
   "id": "cdf216c5-a698-4496-ab9b-6dd4f3f59ef8",
   "metadata": {},
   "outputs": [
    {
     "data": {
      "text/html": [
       "<style>#sk-container-id-3 {color: black;}#sk-container-id-3 pre{padding: 0;}#sk-container-id-3 div.sk-toggleable {background-color: white;}#sk-container-id-3 label.sk-toggleable__label {cursor: pointer;display: block;width: 100%;margin-bottom: 0;padding: 0.3em;box-sizing: border-box;text-align: center;}#sk-container-id-3 label.sk-toggleable__label-arrow:before {content: \"▸\";float: left;margin-right: 0.25em;color: #696969;}#sk-container-id-3 label.sk-toggleable__label-arrow:hover:before {color: black;}#sk-container-id-3 div.sk-estimator:hover label.sk-toggleable__label-arrow:before {color: black;}#sk-container-id-3 div.sk-toggleable__content {max-height: 0;max-width: 0;overflow: hidden;text-align: left;background-color: #f0f8ff;}#sk-container-id-3 div.sk-toggleable__content pre {margin: 0.2em;color: black;border-radius: 0.25em;background-color: #f0f8ff;}#sk-container-id-3 input.sk-toggleable__control:checked~div.sk-toggleable__content {max-height: 200px;max-width: 100%;overflow: auto;}#sk-container-id-3 input.sk-toggleable__control:checked~label.sk-toggleable__label-arrow:before {content: \"▾\";}#sk-container-id-3 div.sk-estimator input.sk-toggleable__control:checked~label.sk-toggleable__label {background-color: #d4ebff;}#sk-container-id-3 div.sk-label input.sk-toggleable__control:checked~label.sk-toggleable__label {background-color: #d4ebff;}#sk-container-id-3 input.sk-hidden--visually {border: 0;clip: rect(1px 1px 1px 1px);clip: rect(1px, 1px, 1px, 1px);height: 1px;margin: -1px;overflow: hidden;padding: 0;position: absolute;width: 1px;}#sk-container-id-3 div.sk-estimator {font-family: monospace;background-color: #f0f8ff;border: 1px dotted black;border-radius: 0.25em;box-sizing: border-box;margin-bottom: 0.5em;}#sk-container-id-3 div.sk-estimator:hover {background-color: #d4ebff;}#sk-container-id-3 div.sk-parallel-item::after {content: \"\";width: 100%;border-bottom: 1px solid gray;flex-grow: 1;}#sk-container-id-3 div.sk-label:hover label.sk-toggleable__label {background-color: #d4ebff;}#sk-container-id-3 div.sk-serial::before {content: \"\";position: absolute;border-left: 1px solid gray;box-sizing: border-box;top: 0;bottom: 0;left: 50%;z-index: 0;}#sk-container-id-3 div.sk-serial {display: flex;flex-direction: column;align-items: center;background-color: white;padding-right: 0.2em;padding-left: 0.2em;position: relative;}#sk-container-id-3 div.sk-item {position: relative;z-index: 1;}#sk-container-id-3 div.sk-parallel {display: flex;align-items: stretch;justify-content: center;background-color: white;position: relative;}#sk-container-id-3 div.sk-item::before, #sk-container-id-3 div.sk-parallel-item::before {content: \"\";position: absolute;border-left: 1px solid gray;box-sizing: border-box;top: 0;bottom: 0;left: 50%;z-index: -1;}#sk-container-id-3 div.sk-parallel-item {display: flex;flex-direction: column;z-index: 1;position: relative;background-color: white;}#sk-container-id-3 div.sk-parallel-item:first-child::after {align-self: flex-end;width: 50%;}#sk-container-id-3 div.sk-parallel-item:last-child::after {align-self: flex-start;width: 50%;}#sk-container-id-3 div.sk-parallel-item:only-child::after {width: 0;}#sk-container-id-3 div.sk-dashed-wrapped {border: 1px dashed gray;margin: 0 0.4em 0.5em 0.4em;box-sizing: border-box;padding-bottom: 0.4em;background-color: white;}#sk-container-id-3 div.sk-label label {font-family: monospace;font-weight: bold;display: inline-block;line-height: 1.2em;}#sk-container-id-3 div.sk-label-container {text-align: center;}#sk-container-id-3 div.sk-container {/* jupyter's `normalize.less` sets `[hidden] { display: none; }` but bootstrap.min.css set `[hidden] { display: none !important; }` so we also need the `!important` here to be able to override the default hidden behavior on the sphinx rendered scikit-learn.org. See: https://github.com/scikit-learn/scikit-learn/issues/21755 */display: inline-block !important;position: relative;}#sk-container-id-3 div.sk-text-repr-fallback {display: none;}</style><div id=\"sk-container-id-3\" class=\"sk-top-container\"><div class=\"sk-text-repr-fallback\"><pre>GridSearchCV(cv=5, error_score=&#x27;raise&#x27;,\n",
       "             estimator=Pipeline(steps=[(&#x27;standardscaler&#x27;, StandardScaler()),\n",
       "                                       (&#x27;linearregression&#x27;,\n",
       "                                        LinearRegression())]),\n",
       "             param_grid={}, scoring=&#x27;neg_mean_absolute_error&#x27;)</pre><b>In a Jupyter environment, please rerun this cell to show the HTML representation or trust the notebook. <br />On GitHub, the HTML representation is unable to render, please try loading this page with nbviewer.org.</b></div><div class=\"sk-container\" hidden><div class=\"sk-item sk-dashed-wrapped\"><div class=\"sk-label-container\"><div class=\"sk-label sk-toggleable\"><input class=\"sk-toggleable__control sk-hidden--visually\" id=\"sk-estimator-id-3\" type=\"checkbox\" ><label for=\"sk-estimator-id-3\" class=\"sk-toggleable__label sk-toggleable__label-arrow\">GridSearchCV</label><div class=\"sk-toggleable__content\"><pre>GridSearchCV(cv=5, error_score=&#x27;raise&#x27;,\n",
       "             estimator=Pipeline(steps=[(&#x27;standardscaler&#x27;, StandardScaler()),\n",
       "                                       (&#x27;linearregression&#x27;,\n",
       "                                        LinearRegression())]),\n",
       "             param_grid={}, scoring=&#x27;neg_mean_absolute_error&#x27;)</pre></div></div></div><div class=\"sk-parallel\"><div class=\"sk-parallel-item\"><div class=\"sk-item\"><div class=\"sk-label-container\"><div class=\"sk-label sk-toggleable\"><input class=\"sk-toggleable__control sk-hidden--visually\" id=\"sk-estimator-id-4\" type=\"checkbox\" ><label for=\"sk-estimator-id-4\" class=\"sk-toggleable__label sk-toggleable__label-arrow\">estimator: Pipeline</label><div class=\"sk-toggleable__content\"><pre>Pipeline(steps=[(&#x27;standardscaler&#x27;, StandardScaler()),\n",
       "                (&#x27;linearregression&#x27;, LinearRegression())])</pre></div></div></div><div class=\"sk-serial\"><div class=\"sk-item\"><div class=\"sk-serial\"><div class=\"sk-item\"><div class=\"sk-estimator sk-toggleable\"><input class=\"sk-toggleable__control sk-hidden--visually\" id=\"sk-estimator-id-5\" type=\"checkbox\" ><label for=\"sk-estimator-id-5\" class=\"sk-toggleable__label sk-toggleable__label-arrow\">StandardScaler</label><div class=\"sk-toggleable__content\"><pre>StandardScaler()</pre></div></div></div><div class=\"sk-item\"><div class=\"sk-estimator sk-toggleable\"><input class=\"sk-toggleable__control sk-hidden--visually\" id=\"sk-estimator-id-6\" type=\"checkbox\" ><label for=\"sk-estimator-id-6\" class=\"sk-toggleable__label sk-toggleable__label-arrow\">LinearRegression</label><div class=\"sk-toggleable__content\"><pre>LinearRegression()</pre></div></div></div></div></div></div></div></div></div></div></div></div>"
      ],
      "text/plain": [
       "GridSearchCV(cv=5, error_score='raise',\n",
       "             estimator=Pipeline(steps=[('standardscaler', StandardScaler()),\n",
       "                                       ('linearregression',\n",
       "                                        LinearRegression())]),\n",
       "             param_grid={}, scoring='neg_mean_absolute_error')"
      ]
     },
     "metadata": {},
     "output_type": "display_data"
    }
   ],
   "source": [
    "# Устанавливаем нужные параметры\n",
    "parameters = {}\n",
    "\n",
    "# Инициализируем модель (включая масштабирование) и GridSearchCV\n",
    "pipeline_scale = make_pipeline(StandardScaler(), LinearRegression())\n",
    "model = GridSearchCV(pipeline_scale, param_grid=parameters, cv=5, scoring='neg_mean_absolute_error', error_score='raise')\n",
    "display(model)"
   ]
  },
  {
   "cell_type": "code",
   "execution_count": 47,
   "id": "b6f7cecd-4798-4ffd-8557-8f116f381cd1",
   "metadata": {},
   "outputs": [
    {
     "name": "stdout",
     "output_type": "stream",
     "text": [
      "MAE TRAIN: 45714.271298546395\n",
      "TIME TRAIN [s]: 0.0\n",
      "CPU times: total: 31.2 ms\n",
      "Wall time: 43.6 ms\n"
     ]
    },
    {
     "data": {
      "application/javascript": [
       "$(document).ready(\n",
       "    function() {\n",
       "        function appendUniqueDiv(){\n",
       "            // append a div with our uuid so we can check that it's already\n",
       "            // been sent and avoid duplicates on page reload\n",
       "            var notifiedDiv = document.createElement(\"div\")\n",
       "            notifiedDiv.id = \"72118c11-3001-4c83-9653-08bd2ea1cc14\"\n",
       "            element.append(notifiedDiv)\n",
       "        }\n",
       "\n",
       "        // only send notifications if the pageload is complete; this will\n",
       "        // help stop extra notifications when a saved notebook is loaded,\n",
       "        // which during testing gives us state \"interactive\", not \"complete\"\n",
       "        if (document.readyState === 'complete') {\n",
       "            // check for the div that signifies that the notification\n",
       "            // was already sent\n",
       "            if (document.getElementById(\"72118c11-3001-4c83-9653-08bd2ea1cc14\") === null) {\n",
       "                var notificationPayload = {\"requireInteraction\": false, \"icon\": \"/static/base/images/favicon.ico\", \"body\": \"KNeighborsRegressor OHE\"};\n",
       "                if (Notification.permission !== 'denied') {\n",
       "                    if (Notification.permission !== 'granted') { \n",
       "                        Notification.requestPermission(function (permission) {\n",
       "                            if(!('permission' in Notification)) {\n",
       "                                Notification.permission = permission\n",
       "                            }\n",
       "                        })\n",
       "                    }\n",
       "                    if (Notification.permission === 'granted') {\n",
       "                    var notification = new Notification(\"Jupyter Notebook\", notificationPayload)\n",
       "                    appendUniqueDiv()\n",
       "                    notification.onclick = function () {\n",
       "                        window.focus();\n",
       "                        this.close();\n",
       "                        };\n",
       "                    } \n",
       "                }     \n",
       "            }\n",
       "        }\n",
       "    }\n",
       ")\n"
      ],
      "text/plain": [
       "<IPython.core.display.Javascript object>"
      ]
     },
     "metadata": {},
     "output_type": "display_data"
    }
   ],
   "source": [
    "%%notify -m \"KNeighborsRegressor OHE\"\n",
    "%%time\n",
    "\n",
    "# Обучим модель на обучающей выборке\n",
    "model.fit(features_train, target_train)\n",
    "time = model.refit_time_\n",
    "params = model.best_params_\n",
    "\n",
    "# Узнаем MAE обучающей выборки\n",
    "result_MAE_t = -model.best_score_\n",
    "print('MAE TRAIN:', result_MAE_t)\n",
    "print('TIME TRAIN [s]:', round(time, 2))"
   ]
  },
  {
   "cell_type": "markdown",
   "id": "95f2c5d7-3588-49b0-a45f-f6e917d13b5b",
   "metadata": {},
   "source": [
    "**Проверка на тестовой выборки**"
   ]
  },
  {
   "cell_type": "code",
   "execution_count": 48,
   "id": "060a59dc-611a-48e3-8487-50972701737b",
   "metadata": {},
   "outputs": [
    {
     "name": "stdout",
     "output_type": "stream",
     "text": [
      "MAE TEST: 2564.561753511988\n",
      "Предсказание: 22000.04242454062\n",
      "CPU times: total: 0 ns\n",
      "Wall time: 3.97 ms\n"
     ]
    }
   ],
   "source": [
    "%%time\n",
    "start_time = timeit.default_timer()\n",
    "# Получим предсказания на тестовой выборки\n",
    "predictions = model.predict(features_test)\n",
    "\n",
    "elapsed = round(timeit.default_timer() - start_time, 3)\n",
    "\n",
    "# Узнаем MAE\n",
    "result_MAE_v = mean_absolute_error(target_test, predictions)\n",
    "print('MAE TEST:', result_MAE_v)\n",
    "print('Предсказание:', predictions.mean())"
   ]
  },
  {
   "cell_type": "code",
   "execution_count": 49,
   "id": "a9fd780a-0c2b-45b4-99b8-1ed5237ca92f",
   "metadata": {},
   "outputs": [
    {
     "data": {
      "text/plain": [
       "NAME                   LinearRegression\n",
       "MAE TRAIN                  45714.271299\n",
       "MAE TEST                    2564.561754\n",
       "PREDICTIONS                22000.042425\n",
       "TIME TRAINING [s]              0.003002\n",
       "TIME PREDICTION [s]               0.002\n",
       "PARAMETRS                            {}\n",
       "Name: 0, dtype: object"
      ]
     },
     "metadata": {},
     "output_type": "display_data"
    }
   ],
   "source": [
    "# Зафиксируем результаты\n",
    "results[count_model] = pd.Series({\n",
    "    'NAME': pipeline_scale.named_steps[pipeline_scale.steps[-1][0]].__class__.__name__, \n",
    "    'MAE TRAIN': result_MAE_t, \n",
    "    'MAE TEST': result_MAE_v, \n",
    "    'PREDICTIONS': predictions.mean(), \n",
    "    'TIME TRAINING [s]': model.refit_time_, \n",
    "    'TIME PREDICTION [s]': elapsed, \n",
    "    'PARAMETRS': model.best_params_\n",
    "})\n",
    "\n",
    "display(results[count_model])\n",
    "count_model+=1"
   ]
  },
  {
   "cell_type": "markdown",
   "id": "0b4d3862-6de3-45a8-a17a-1a05ae08b2f8",
   "metadata": {},
   "source": [
    "### 3.3.3. DecisionTreeRegressor"
   ]
  },
  {
   "cell_type": "code",
   "execution_count": 50,
   "id": "277f9d8e-32a9-4c18-979d-e35152e8588e",
   "metadata": {},
   "outputs": [
    {
     "data": {
      "text/html": [
       "<style>#sk-container-id-4 {color: black;}#sk-container-id-4 pre{padding: 0;}#sk-container-id-4 div.sk-toggleable {background-color: white;}#sk-container-id-4 label.sk-toggleable__label {cursor: pointer;display: block;width: 100%;margin-bottom: 0;padding: 0.3em;box-sizing: border-box;text-align: center;}#sk-container-id-4 label.sk-toggleable__label-arrow:before {content: \"▸\";float: left;margin-right: 0.25em;color: #696969;}#sk-container-id-4 label.sk-toggleable__label-arrow:hover:before {color: black;}#sk-container-id-4 div.sk-estimator:hover label.sk-toggleable__label-arrow:before {color: black;}#sk-container-id-4 div.sk-toggleable__content {max-height: 0;max-width: 0;overflow: hidden;text-align: left;background-color: #f0f8ff;}#sk-container-id-4 div.sk-toggleable__content pre {margin: 0.2em;color: black;border-radius: 0.25em;background-color: #f0f8ff;}#sk-container-id-4 input.sk-toggleable__control:checked~div.sk-toggleable__content {max-height: 200px;max-width: 100%;overflow: auto;}#sk-container-id-4 input.sk-toggleable__control:checked~label.sk-toggleable__label-arrow:before {content: \"▾\";}#sk-container-id-4 div.sk-estimator input.sk-toggleable__control:checked~label.sk-toggleable__label {background-color: #d4ebff;}#sk-container-id-4 div.sk-label input.sk-toggleable__control:checked~label.sk-toggleable__label {background-color: #d4ebff;}#sk-container-id-4 input.sk-hidden--visually {border: 0;clip: rect(1px 1px 1px 1px);clip: rect(1px, 1px, 1px, 1px);height: 1px;margin: -1px;overflow: hidden;padding: 0;position: absolute;width: 1px;}#sk-container-id-4 div.sk-estimator {font-family: monospace;background-color: #f0f8ff;border: 1px dotted black;border-radius: 0.25em;box-sizing: border-box;margin-bottom: 0.5em;}#sk-container-id-4 div.sk-estimator:hover {background-color: #d4ebff;}#sk-container-id-4 div.sk-parallel-item::after {content: \"\";width: 100%;border-bottom: 1px solid gray;flex-grow: 1;}#sk-container-id-4 div.sk-label:hover label.sk-toggleable__label {background-color: #d4ebff;}#sk-container-id-4 div.sk-serial::before {content: \"\";position: absolute;border-left: 1px solid gray;box-sizing: border-box;top: 0;bottom: 0;left: 50%;z-index: 0;}#sk-container-id-4 div.sk-serial {display: flex;flex-direction: column;align-items: center;background-color: white;padding-right: 0.2em;padding-left: 0.2em;position: relative;}#sk-container-id-4 div.sk-item {position: relative;z-index: 1;}#sk-container-id-4 div.sk-parallel {display: flex;align-items: stretch;justify-content: center;background-color: white;position: relative;}#sk-container-id-4 div.sk-item::before, #sk-container-id-4 div.sk-parallel-item::before {content: \"\";position: absolute;border-left: 1px solid gray;box-sizing: border-box;top: 0;bottom: 0;left: 50%;z-index: -1;}#sk-container-id-4 div.sk-parallel-item {display: flex;flex-direction: column;z-index: 1;position: relative;background-color: white;}#sk-container-id-4 div.sk-parallel-item:first-child::after {align-self: flex-end;width: 50%;}#sk-container-id-4 div.sk-parallel-item:last-child::after {align-self: flex-start;width: 50%;}#sk-container-id-4 div.sk-parallel-item:only-child::after {width: 0;}#sk-container-id-4 div.sk-dashed-wrapped {border: 1px dashed gray;margin: 0 0.4em 0.5em 0.4em;box-sizing: border-box;padding-bottom: 0.4em;background-color: white;}#sk-container-id-4 div.sk-label label {font-family: monospace;font-weight: bold;display: inline-block;line-height: 1.2em;}#sk-container-id-4 div.sk-label-container {text-align: center;}#sk-container-id-4 div.sk-container {/* jupyter's `normalize.less` sets `[hidden] { display: none; }` but bootstrap.min.css set `[hidden] { display: none !important; }` so we also need the `!important` here to be able to override the default hidden behavior on the sphinx rendered scikit-learn.org. See: https://github.com/scikit-learn/scikit-learn/issues/21755 */display: inline-block !important;position: relative;}#sk-container-id-4 div.sk-text-repr-fallback {display: none;}</style><div id=\"sk-container-id-4\" class=\"sk-top-container\"><div class=\"sk-text-repr-fallback\"><pre>GridSearchCV(cv=5,\n",
       "             estimator=Pipeline(steps=[(&#x27;standardscaler&#x27;, StandardScaler()),\n",
       "                                       (&#x27;decisiontreeregressor&#x27;,\n",
       "                                        DecisionTreeRegressor(random_state=12345))]),\n",
       "             param_grid={&#x27;decisiontreeregressor__max_depth&#x27;: range(1, 101, 10),\n",
       "                         &#x27;decisiontreeregressor__min_samples_leaf&#x27;: [1, 0.5]},\n",
       "             scoring=&#x27;neg_mean_absolute_error&#x27;)</pre><b>In a Jupyter environment, please rerun this cell to show the HTML representation or trust the notebook. <br />On GitHub, the HTML representation is unable to render, please try loading this page with nbviewer.org.</b></div><div class=\"sk-container\" hidden><div class=\"sk-item sk-dashed-wrapped\"><div class=\"sk-label-container\"><div class=\"sk-label sk-toggleable\"><input class=\"sk-toggleable__control sk-hidden--visually\" id=\"sk-estimator-id-7\" type=\"checkbox\" ><label for=\"sk-estimator-id-7\" class=\"sk-toggleable__label sk-toggleable__label-arrow\">GridSearchCV</label><div class=\"sk-toggleable__content\"><pre>GridSearchCV(cv=5,\n",
       "             estimator=Pipeline(steps=[(&#x27;standardscaler&#x27;, StandardScaler()),\n",
       "                                       (&#x27;decisiontreeregressor&#x27;,\n",
       "                                        DecisionTreeRegressor(random_state=12345))]),\n",
       "             param_grid={&#x27;decisiontreeregressor__max_depth&#x27;: range(1, 101, 10),\n",
       "                         &#x27;decisiontreeregressor__min_samples_leaf&#x27;: [1, 0.5]},\n",
       "             scoring=&#x27;neg_mean_absolute_error&#x27;)</pre></div></div></div><div class=\"sk-parallel\"><div class=\"sk-parallel-item\"><div class=\"sk-item\"><div class=\"sk-label-container\"><div class=\"sk-label sk-toggleable\"><input class=\"sk-toggleable__control sk-hidden--visually\" id=\"sk-estimator-id-8\" type=\"checkbox\" ><label for=\"sk-estimator-id-8\" class=\"sk-toggleable__label sk-toggleable__label-arrow\">estimator: Pipeline</label><div class=\"sk-toggleable__content\"><pre>Pipeline(steps=[(&#x27;standardscaler&#x27;, StandardScaler()),\n",
       "                (&#x27;decisiontreeregressor&#x27;,\n",
       "                 DecisionTreeRegressor(random_state=12345))])</pre></div></div></div><div class=\"sk-serial\"><div class=\"sk-item\"><div class=\"sk-serial\"><div class=\"sk-item\"><div class=\"sk-estimator sk-toggleable\"><input class=\"sk-toggleable__control sk-hidden--visually\" id=\"sk-estimator-id-9\" type=\"checkbox\" ><label for=\"sk-estimator-id-9\" class=\"sk-toggleable__label sk-toggleable__label-arrow\">StandardScaler</label><div class=\"sk-toggleable__content\"><pre>StandardScaler()</pre></div></div></div><div class=\"sk-item\"><div class=\"sk-estimator sk-toggleable\"><input class=\"sk-toggleable__control sk-hidden--visually\" id=\"sk-estimator-id-10\" type=\"checkbox\" ><label for=\"sk-estimator-id-10\" class=\"sk-toggleable__label sk-toggleable__label-arrow\">DecisionTreeRegressor</label><div class=\"sk-toggleable__content\"><pre>DecisionTreeRegressor(random_state=12345)</pre></div></div></div></div></div></div></div></div></div></div></div></div>"
      ],
      "text/plain": [
       "GridSearchCV(cv=5,\n",
       "             estimator=Pipeline(steps=[('standardscaler', StandardScaler()),\n",
       "                                       ('decisiontreeregressor',\n",
       "                                        DecisionTreeRegressor(random_state=12345))]),\n",
       "             param_grid={'decisiontreeregressor__max_depth': range(1, 101, 10),\n",
       "                         'decisiontreeregressor__min_samples_leaf': [1, 0.5]},\n",
       "             scoring='neg_mean_absolute_error')"
      ]
     },
     "metadata": {},
     "output_type": "display_data"
    }
   ],
   "source": [
    "# Матрица гиперпараметров\n",
    "parameters = {\n",
    "    'decisiontreeregressor__max_depth': range(1, 101, 10),\n",
    "    'decisiontreeregressor__min_samples_leaf': [1, 0.5]\n",
    "}\n",
    "\n",
    "# Инициализируем модель (включая масштабирование) и GridSearchCV\n",
    "pipeline_scale = make_pipeline(StandardScaler(), DecisionTreeRegressor(random_state=12345))\n",
    "model = GridSearchCV(pipeline_scale, param_grid=parameters, cv=5, scoring='neg_mean_absolute_error')\n",
    "\n",
    "# Выводим модель с настроенными гиперпараметрами\n",
    "display(model)"
   ]
  },
  {
   "cell_type": "code",
   "execution_count": 51,
   "id": "be7f23cd-f720-4872-8453-02da8d2d575f",
   "metadata": {},
   "outputs": [
    {
     "name": "stdout",
     "output_type": "stream",
     "text": [
      "MAE TRAIN: 2225.7539397639403\n",
      "TIME TRAIN [s]: 0.0\n",
      "CPU times: total: 531 ms\n",
      "Wall time: 593 ms\n"
     ]
    },
    {
     "data": {
      "application/javascript": [
       "$(document).ready(\n",
       "    function() {\n",
       "        function appendUniqueDiv(){\n",
       "            // append a div with our uuid so we can check that it's already\n",
       "            // been sent and avoid duplicates on page reload\n",
       "            var notifiedDiv = document.createElement(\"div\")\n",
       "            notifiedDiv.id = \"c6335aa3-72f9-48a9-8858-58d5d9ae2347\"\n",
       "            element.append(notifiedDiv)\n",
       "        }\n",
       "\n",
       "        // only send notifications if the pageload is complete; this will\n",
       "        // help stop extra notifications when a saved notebook is loaded,\n",
       "        // which during testing gives us state \"interactive\", not \"complete\"\n",
       "        if (document.readyState === 'complete') {\n",
       "            // check for the div that signifies that the notification\n",
       "            // was already sent\n",
       "            if (document.getElementById(\"c6335aa3-72f9-48a9-8858-58d5d9ae2347\") === null) {\n",
       "                var notificationPayload = {\"requireInteraction\": false, \"icon\": \"/static/base/images/favicon.ico\", \"body\": \"fDecisionTreeRegressor\"};\n",
       "                if (Notification.permission !== 'denied') {\n",
       "                    if (Notification.permission !== 'granted') { \n",
       "                        Notification.requestPermission(function (permission) {\n",
       "                            if(!('permission' in Notification)) {\n",
       "                                Notification.permission = permission\n",
       "                            }\n",
       "                        })\n",
       "                    }\n",
       "                    if (Notification.permission === 'granted') {\n",
       "                    var notification = new Notification(\"Jupyter Notebook\", notificationPayload)\n",
       "                    appendUniqueDiv()\n",
       "                    notification.onclick = function () {\n",
       "                        window.focus();\n",
       "                        this.close();\n",
       "                        };\n",
       "                    } \n",
       "                }     \n",
       "            }\n",
       "        }\n",
       "    }\n",
       ")\n"
      ],
      "text/plain": [
       "<IPython.core.display.Javascript object>"
      ]
     },
     "metadata": {},
     "output_type": "display_data"
    }
   ],
   "source": [
    "%%notify -m f\"{pipeline_scale.named_steps[pipeline_scale.steps[-1][0]].__class__.__name__}\"\n",
    "%%time\n",
    "\n",
    "# Обучим модель на обучающей выборке\n",
    "model.fit(features_train, target_train)\n",
    "time = model.refit_time_\n",
    "params = model.best_params_\n",
    "\n",
    "# Узнаем MAE обучающей выборки\n",
    "result_MAE_t = -model.best_score_\n",
    "print('MAE TRAIN:', result_MAE_t)\n",
    "print('TIME TRAIN [s]:', round(time, 2))"
   ]
  },
  {
   "cell_type": "markdown",
   "id": "e98789d2-0ef4-4a3d-8dbe-2abe1a36162c",
   "metadata": {},
   "source": [
    "**Проверка на тестовой выборки**"
   ]
  },
  {
   "cell_type": "code",
   "execution_count": 52,
   "id": "5ef45619-e12e-4bfc-b78f-dd4817ea0e9c",
   "metadata": {},
   "outputs": [
    {
     "name": "stdout",
     "output_type": "stream",
     "text": [
      "MAE TEST: 3383.3048128342243\n",
      "Предсказание: 22004.529411764703\n",
      "CPU times: total: 0 ns\n",
      "Wall time: 1.99 ms\n"
     ]
    }
   ],
   "source": [
    "%%time\n",
    "start_time = timeit.default_timer()\n",
    "# Получим предсказания на тестовой выборки\n",
    "predictions = model.predict(features_test)\n",
    "\n",
    "elapsed = round(timeit.default_timer() - start_time, 3)\n",
    "\n",
    "# Узнаем MAE\n",
    "result_MAE_v = mean_absolute_error(target_test, predictions)\n",
    "print('MAE TEST:', result_MAE_v)\n",
    "print('Предсказание:', predictions.mean())"
   ]
  },
  {
   "cell_type": "code",
   "execution_count": 53,
   "id": "ce5ece9d-8b08-44c7-8cf1-c43e9fb0d226",
   "metadata": {},
   "outputs": [],
   "source": [
    "# Зафиксируем результаты\n",
    "results[count_model] = pd.Series({\n",
    "    'NAME': pipeline_scale.named_steps[pipeline_scale.steps[-1][0]].__class__.__name__, \n",
    "    'MAE TRAIN': result_MAE_t, \n",
    "    'MAE TEST': result_MAE_v, \n",
    "    'PREDICTIONS': predictions.mean(), \n",
    "    'TIME TRAINING [s]': model.refit_time_, \n",
    "    'TIME PREDICTION [s]': elapsed, \n",
    "    'PARAMETRS': model.best_params_\n",
    "})\n",
    "\n",
    "results[count_model]\n",
    "count_model+=1"
   ]
  },
  {
   "cell_type": "markdown",
   "id": "ad53266b-2861-4ac2-b2c6-332157869f69",
   "metadata": {},
   "source": [
    "### 3.3.4. Support Vector Machine"
   ]
  },
  {
   "cell_type": "code",
   "execution_count": 54,
   "id": "ee9aac9e-1336-44ef-ade7-59d650bf60ff",
   "metadata": {},
   "outputs": [
    {
     "data": {
      "text/html": [
       "<style>#sk-container-id-5 {color: black;}#sk-container-id-5 pre{padding: 0;}#sk-container-id-5 div.sk-toggleable {background-color: white;}#sk-container-id-5 label.sk-toggleable__label {cursor: pointer;display: block;width: 100%;margin-bottom: 0;padding: 0.3em;box-sizing: border-box;text-align: center;}#sk-container-id-5 label.sk-toggleable__label-arrow:before {content: \"▸\";float: left;margin-right: 0.25em;color: #696969;}#sk-container-id-5 label.sk-toggleable__label-arrow:hover:before {color: black;}#sk-container-id-5 div.sk-estimator:hover label.sk-toggleable__label-arrow:before {color: black;}#sk-container-id-5 div.sk-toggleable__content {max-height: 0;max-width: 0;overflow: hidden;text-align: left;background-color: #f0f8ff;}#sk-container-id-5 div.sk-toggleable__content pre {margin: 0.2em;color: black;border-radius: 0.25em;background-color: #f0f8ff;}#sk-container-id-5 input.sk-toggleable__control:checked~div.sk-toggleable__content {max-height: 200px;max-width: 100%;overflow: auto;}#sk-container-id-5 input.sk-toggleable__control:checked~label.sk-toggleable__label-arrow:before {content: \"▾\";}#sk-container-id-5 div.sk-estimator input.sk-toggleable__control:checked~label.sk-toggleable__label {background-color: #d4ebff;}#sk-container-id-5 div.sk-label input.sk-toggleable__control:checked~label.sk-toggleable__label {background-color: #d4ebff;}#sk-container-id-5 input.sk-hidden--visually {border: 0;clip: rect(1px 1px 1px 1px);clip: rect(1px, 1px, 1px, 1px);height: 1px;margin: -1px;overflow: hidden;padding: 0;position: absolute;width: 1px;}#sk-container-id-5 div.sk-estimator {font-family: monospace;background-color: #f0f8ff;border: 1px dotted black;border-radius: 0.25em;box-sizing: border-box;margin-bottom: 0.5em;}#sk-container-id-5 div.sk-estimator:hover {background-color: #d4ebff;}#sk-container-id-5 div.sk-parallel-item::after {content: \"\";width: 100%;border-bottom: 1px solid gray;flex-grow: 1;}#sk-container-id-5 div.sk-label:hover label.sk-toggleable__label {background-color: #d4ebff;}#sk-container-id-5 div.sk-serial::before {content: \"\";position: absolute;border-left: 1px solid gray;box-sizing: border-box;top: 0;bottom: 0;left: 50%;z-index: 0;}#sk-container-id-5 div.sk-serial {display: flex;flex-direction: column;align-items: center;background-color: white;padding-right: 0.2em;padding-left: 0.2em;position: relative;}#sk-container-id-5 div.sk-item {position: relative;z-index: 1;}#sk-container-id-5 div.sk-parallel {display: flex;align-items: stretch;justify-content: center;background-color: white;position: relative;}#sk-container-id-5 div.sk-item::before, #sk-container-id-5 div.sk-parallel-item::before {content: \"\";position: absolute;border-left: 1px solid gray;box-sizing: border-box;top: 0;bottom: 0;left: 50%;z-index: -1;}#sk-container-id-5 div.sk-parallel-item {display: flex;flex-direction: column;z-index: 1;position: relative;background-color: white;}#sk-container-id-5 div.sk-parallel-item:first-child::after {align-self: flex-end;width: 50%;}#sk-container-id-5 div.sk-parallel-item:last-child::after {align-self: flex-start;width: 50%;}#sk-container-id-5 div.sk-parallel-item:only-child::after {width: 0;}#sk-container-id-5 div.sk-dashed-wrapped {border: 1px dashed gray;margin: 0 0.4em 0.5em 0.4em;box-sizing: border-box;padding-bottom: 0.4em;background-color: white;}#sk-container-id-5 div.sk-label label {font-family: monospace;font-weight: bold;display: inline-block;line-height: 1.2em;}#sk-container-id-5 div.sk-label-container {text-align: center;}#sk-container-id-5 div.sk-container {/* jupyter's `normalize.less` sets `[hidden] { display: none; }` but bootstrap.min.css set `[hidden] { display: none !important; }` so we also need the `!important` here to be able to override the default hidden behavior on the sphinx rendered scikit-learn.org. See: https://github.com/scikit-learn/scikit-learn/issues/21755 */display: inline-block !important;position: relative;}#sk-container-id-5 div.sk-text-repr-fallback {display: none;}</style><div id=\"sk-container-id-5\" class=\"sk-top-container\"><div class=\"sk-text-repr-fallback\"><pre>GridSearchCV(cv=5,\n",
       "             estimator=Pipeline(steps=[(&#x27;standardscaler&#x27;, StandardScaler()),\n",
       "                                       (&#x27;svr&#x27;, SVR())]),\n",
       "             param_grid={&#x27;svr__C&#x27;: [0.1, 1, 10],\n",
       "                         &#x27;svr__gamma&#x27;: [&#x27;scale&#x27;, &#x27;auto&#x27;],\n",
       "                         &#x27;svr__kernel&#x27;: [&#x27;linear&#x27;, &#x27;rbf&#x27;]},\n",
       "             scoring=&#x27;neg_mean_absolute_error&#x27;)</pre><b>In a Jupyter environment, please rerun this cell to show the HTML representation or trust the notebook. <br />On GitHub, the HTML representation is unable to render, please try loading this page with nbviewer.org.</b></div><div class=\"sk-container\" hidden><div class=\"sk-item sk-dashed-wrapped\"><div class=\"sk-label-container\"><div class=\"sk-label sk-toggleable\"><input class=\"sk-toggleable__control sk-hidden--visually\" id=\"sk-estimator-id-11\" type=\"checkbox\" ><label for=\"sk-estimator-id-11\" class=\"sk-toggleable__label sk-toggleable__label-arrow\">GridSearchCV</label><div class=\"sk-toggleable__content\"><pre>GridSearchCV(cv=5,\n",
       "             estimator=Pipeline(steps=[(&#x27;standardscaler&#x27;, StandardScaler()),\n",
       "                                       (&#x27;svr&#x27;, SVR())]),\n",
       "             param_grid={&#x27;svr__C&#x27;: [0.1, 1, 10],\n",
       "                         &#x27;svr__gamma&#x27;: [&#x27;scale&#x27;, &#x27;auto&#x27;],\n",
       "                         &#x27;svr__kernel&#x27;: [&#x27;linear&#x27;, &#x27;rbf&#x27;]},\n",
       "             scoring=&#x27;neg_mean_absolute_error&#x27;)</pre></div></div></div><div class=\"sk-parallel\"><div class=\"sk-parallel-item\"><div class=\"sk-item\"><div class=\"sk-label-container\"><div class=\"sk-label sk-toggleable\"><input class=\"sk-toggleable__control sk-hidden--visually\" id=\"sk-estimator-id-12\" type=\"checkbox\" ><label for=\"sk-estimator-id-12\" class=\"sk-toggleable__label sk-toggleable__label-arrow\">estimator: Pipeline</label><div class=\"sk-toggleable__content\"><pre>Pipeline(steps=[(&#x27;standardscaler&#x27;, StandardScaler()), (&#x27;svr&#x27;, SVR())])</pre></div></div></div><div class=\"sk-serial\"><div class=\"sk-item\"><div class=\"sk-serial\"><div class=\"sk-item\"><div class=\"sk-estimator sk-toggleable\"><input class=\"sk-toggleable__control sk-hidden--visually\" id=\"sk-estimator-id-13\" type=\"checkbox\" ><label for=\"sk-estimator-id-13\" class=\"sk-toggleable__label sk-toggleable__label-arrow\">StandardScaler</label><div class=\"sk-toggleable__content\"><pre>StandardScaler()</pre></div></div></div><div class=\"sk-item\"><div class=\"sk-estimator sk-toggleable\"><input class=\"sk-toggleable__control sk-hidden--visually\" id=\"sk-estimator-id-14\" type=\"checkbox\" ><label for=\"sk-estimator-id-14\" class=\"sk-toggleable__label sk-toggleable__label-arrow\">SVR</label><div class=\"sk-toggleable__content\"><pre>SVR()</pre></div></div></div></div></div></div></div></div></div></div></div></div>"
      ],
      "text/plain": [
       "GridSearchCV(cv=5,\n",
       "             estimator=Pipeline(steps=[('standardscaler', StandardScaler()),\n",
       "                                       ('svr', SVR())]),\n",
       "             param_grid={'svr__C': [0.1, 1, 10],\n",
       "                         'svr__gamma': ['scale', 'auto'],\n",
       "                         'svr__kernel': ['linear', 'rbf']},\n",
       "             scoring='neg_mean_absolute_error')"
      ]
     },
     "metadata": {},
     "output_type": "display_data"
    }
   ],
   "source": [
    "# Матрица гиперпараметров\n",
    "parameters = {\n",
    "    'svr__C': [0.1, 1, 10],  \n",
    "    'svr__kernel': ['linear', 'rbf'],\n",
    "    'svr__gamma': ['scale', 'auto']\n",
    "}\n",
    "\n",
    "# Инициализируем модель с параметрами и создаем конвейер\n",
    "pipeline_scale = make_pipeline(StandardScaler(), SVR())\n",
    "model = GridSearchCV(pipeline_scale, param_grid=parameters, cv=5, scoring='neg_mean_absolute_error')\n",
    "\n",
    "# Выводим модель с настроенными гиперпараметрами\n",
    "display(model)"
   ]
  },
  {
   "cell_type": "code",
   "execution_count": 55,
   "id": "b1720855-5393-4c66-ab5c-2c06b1c73209",
   "metadata": {},
   "outputs": [
    {
     "name": "stdout",
     "output_type": "stream",
     "text": [
      "MAE TRAIN: 2207.7940271620964\n",
      "TIME TRAIN [s]: 0.0\n",
      "CPU times: total: 266 ms\n",
      "Wall time: 326 ms\n"
     ]
    },
    {
     "data": {
      "application/javascript": [
       "$(document).ready(\n",
       "    function() {\n",
       "        function appendUniqueDiv(){\n",
       "            // append a div with our uuid so we can check that it's already\n",
       "            // been sent and avoid duplicates on page reload\n",
       "            var notifiedDiv = document.createElement(\"div\")\n",
       "            notifiedDiv.id = \"ef1ed1b2-1ca7-485f-a02f-53a7fe241cd8\"\n",
       "            element.append(notifiedDiv)\n",
       "        }\n",
       "\n",
       "        // only send notifications if the pageload is complete; this will\n",
       "        // help stop extra notifications when a saved notebook is loaded,\n",
       "        // which during testing gives us state \"interactive\", not \"complete\"\n",
       "        if (document.readyState === 'complete') {\n",
       "            // check for the div that signifies that the notification\n",
       "            // was already sent\n",
       "            if (document.getElementById(\"ef1ed1b2-1ca7-485f-a02f-53a7fe241cd8\") === null) {\n",
       "                var notificationPayload = {\"requireInteraction\": false, \"icon\": \"/static/base/images/favicon.ico\", \"body\": \"fSVR\"};\n",
       "                if (Notification.permission !== 'denied') {\n",
       "                    if (Notification.permission !== 'granted') { \n",
       "                        Notification.requestPermission(function (permission) {\n",
       "                            if(!('permission' in Notification)) {\n",
       "                                Notification.permission = permission\n",
       "                            }\n",
       "                        })\n",
       "                    }\n",
       "                    if (Notification.permission === 'granted') {\n",
       "                    var notification = new Notification(\"Jupyter Notebook\", notificationPayload)\n",
       "                    appendUniqueDiv()\n",
       "                    notification.onclick = function () {\n",
       "                        window.focus();\n",
       "                        this.close();\n",
       "                        };\n",
       "                    } \n",
       "                }     \n",
       "            }\n",
       "        }\n",
       "    }\n",
       ")\n"
      ],
      "text/plain": [
       "<IPython.core.display.Javascript object>"
      ]
     },
     "metadata": {},
     "output_type": "display_data"
    }
   ],
   "source": [
    "%%notify -m f\"{pipeline_scale.named_steps[pipeline_scale.steps[-1][0]].__class__.__name__}\"\n",
    "%%time\n",
    "\n",
    "# Обучим модель на обучающей выборке\n",
    "model.fit(features_train, target_train)\n",
    "time = model.refit_time_\n",
    "params = model.best_params_\n",
    "\n",
    "# Узнаем MAE обучающей выборки\n",
    "result_MAE_t = -model.best_score_\n",
    "print('MAE TRAIN:', result_MAE_t)\n",
    "print('TIME TRAIN [s]:', round(time, 2))"
   ]
  },
  {
   "cell_type": "markdown",
   "id": "fd83b4ca-4ca4-4a6a-b23b-5701e263d722",
   "metadata": {},
   "source": [
    "**Проверка на тестовой выборки**"
   ]
  },
  {
   "cell_type": "code",
   "execution_count": 56,
   "id": "659bdd9c-358a-4303-af60-75c9768e30e8",
   "metadata": {},
   "outputs": [
    {
     "name": "stdout",
     "output_type": "stream",
     "text": [
      "MAE TEST: 3541.9725369069174\n",
      "Предсказание: 21602.169682337382\n",
      "CPU times: total: 0 ns\n",
      "Wall time: 2.04 ms\n"
     ]
    }
   ],
   "source": [
    "%%time\n",
    "start_time = timeit.default_timer()\n",
    "# Получим предсказания на тестовой выборки\n",
    "predictions = model.predict(features_test)\n",
    "\n",
    "elapsed = round(timeit.default_timer() - start_time, 3)\n",
    "\n",
    "# Узнаем MAE\n",
    "result_MAE_v = mean_absolute_error(target_test, predictions)\n",
    "print('MAE TEST:', result_MAE_v)\n",
    "print('Предсказание:', predictions.mean())"
   ]
  },
  {
   "cell_type": "code",
   "execution_count": 57,
   "id": "89c5c161-9e1d-4e89-8d6a-48843afb7a30",
   "metadata": {},
   "outputs": [],
   "source": [
    "# Зафиксируем результаты\n",
    "results[count_model] = pd.Series({\n",
    "    'NAME': pipeline_scale.named_steps[pipeline_scale.steps[-1][0]].__class__.__name__, \n",
    "    'MAE TRAIN': result_MAE_t, \n",
    "    'MAE TEST': result_MAE_v, \n",
    "    'PREDICTIONS': predictions.mean(), \n",
    "    'TIME TRAINING [s]': model.refit_time_, \n",
    "    'TIME PREDICTION [s]': elapsed, \n",
    "    'PARAMETRS': model.best_params_\n",
    "})\n",
    "\n",
    "results[count_model]\n",
    "count_model+=1"
   ]
  },
  {
   "cell_type": "markdown",
   "id": "5874d0bc-9a8e-46b2-b8d7-5d2d57160a5e",
   "metadata": {},
   "source": [
    "## 3.4. Итог"
   ]
  },
  {
   "cell_type": "markdown",
   "id": "62cfe4e3-ab23-4000-a804-42934be18d0b",
   "metadata": {},
   "source": [
    "### 3.4.1. Анализ моделей"
   ]
  },
  {
   "cell_type": "code",
   "execution_count": 58,
   "id": "a3fdde84-353b-4492-8095-b123d0d4b1bd",
   "metadata": {},
   "outputs": [
    {
     "data": {
      "application/javascript": [
       "$(document).ready(\n",
       "    function() {\n",
       "        function appendUniqueDiv(){\n",
       "            // append a div with our uuid so we can check that it's already\n",
       "            // been sent and avoid duplicates on page reload\n",
       "            var notifiedDiv = document.createElement(\"div\")\n",
       "            notifiedDiv.id = \"85b5654a-1443-435c-be7f-dab9c5b812c1\"\n",
       "            element.append(notifiedDiv)\n",
       "        }\n",
       "\n",
       "        // only send notifications if the pageload is complete; this will\n",
       "        // help stop extra notifications when a saved notebook is loaded,\n",
       "        // which during testing gives us state \"interactive\", not \"complete\"\n",
       "        if (document.readyState === 'complete') {\n",
       "            // check for the div that signifies that the notification\n",
       "            // was already sent\n",
       "            if (document.getElementById(\"85b5654a-1443-435c-be7f-dab9c5b812c1\") === null) {\n",
       "                var notificationPayload = {\"requireInteraction\": false, \"icon\": \"/static/base/images/favicon.ico\", \"body\": \"Total result\"};\n",
       "                if (Notification.permission !== 'denied') {\n",
       "                    if (Notification.permission !== 'granted') { \n",
       "                        Notification.requestPermission(function (permission) {\n",
       "                            if(!('permission' in Notification)) {\n",
       "                                Notification.permission = permission\n",
       "                            }\n",
       "                        })\n",
       "                    }\n",
       "                    if (Notification.permission === 'granted') {\n",
       "                    var notification = new Notification(\"Jupyter Notebook\", notificationPayload)\n",
       "                    appendUniqueDiv()\n",
       "                    notification.onclick = function () {\n",
       "                        window.focus();\n",
       "                        this.close();\n",
       "                        };\n",
       "                    } \n",
       "                }     \n",
       "            }\n",
       "        }\n",
       "    }\n",
       ")\n"
      ],
      "text/plain": [
       "<IPython.core.display.Javascript object>"
      ]
     },
     "metadata": {},
     "output_type": "display_data"
    }
   ],
   "source": [
    "%%notify -m \"Total result\"\n",
    "results = pd.DataFrame(results).T"
   ]
  },
  {
   "cell_type": "code",
   "execution_count": 59,
   "id": "4e91e3b8-73e8-479f-a9a8-4e51018e817a",
   "metadata": {},
   "outputs": [
    {
     "data": {
      "text/html": [
       "<div>\n",
       "<style scoped>\n",
       "    .dataframe tbody tr th:only-of-type {\n",
       "        vertical-align: middle;\n",
       "    }\n",
       "\n",
       "    .dataframe tbody tr th {\n",
       "        vertical-align: top;\n",
       "    }\n",
       "\n",
       "    .dataframe thead th {\n",
       "        text-align: right;\n",
       "    }\n",
       "</style>\n",
       "<table border=\"1\" class=\"dataframe\">\n",
       "  <thead>\n",
       "    <tr style=\"text-align: right;\">\n",
       "      <th></th>\n",
       "      <th>NAME</th>\n",
       "      <th>MAE TRAIN</th>\n",
       "      <th>MAE TEST</th>\n",
       "      <th>PREDICTIONS</th>\n",
       "      <th>TIME TRAINING [s]</th>\n",
       "      <th>TIME PREDICTION [s]</th>\n",
       "      <th>PARAMETRS</th>\n",
       "    </tr>\n",
       "  </thead>\n",
       "  <tbody>\n",
       "    <tr>\n",
       "      <th>0</th>\n",
       "      <td>LinearRegression</td>\n",
       "      <td>45714.271299</td>\n",
       "      <td>2564.561754</td>\n",
       "      <td>22000.042425</td>\n",
       "      <td>0.003002</td>\n",
       "      <td>0.002</td>\n",
       "      <td>{}</td>\n",
       "    </tr>\n",
       "    <tr>\n",
       "      <th>1</th>\n",
       "      <td>DecisionTreeRegressor</td>\n",
       "      <td>2225.75394</td>\n",
       "      <td>3383.304813</td>\n",
       "      <td>22004.529412</td>\n",
       "      <td>0.003001</td>\n",
       "      <td>0.002</td>\n",
       "      <td>{'decisiontreeregressor__max_depth': 1, 'decis...</td>\n",
       "    </tr>\n",
       "    <tr>\n",
       "      <th>2</th>\n",
       "      <td>SVR</td>\n",
       "      <td>2207.794027</td>\n",
       "      <td>3541.972537</td>\n",
       "      <td>21602.169682</td>\n",
       "      <td>0.003001</td>\n",
       "      <td>0.002</td>\n",
       "      <td>{'svr__C': 10, 'svr__gamma': 'scale', 'svr__ke...</td>\n",
       "    </tr>\n",
       "  </tbody>\n",
       "</table>\n",
       "</div>"
      ],
      "text/plain": [
       "                    NAME     MAE TRAIN     MAE TEST   PREDICTIONS  \\\n",
       "0       LinearRegression  45714.271299  2564.561754  22000.042425   \n",
       "1  DecisionTreeRegressor    2225.75394  3383.304813  22004.529412   \n",
       "2                    SVR   2207.794027  3541.972537  21602.169682   \n",
       "\n",
       "  TIME TRAINING [s] TIME PREDICTION [s]  \\\n",
       "0          0.003002               0.002   \n",
       "1          0.003001               0.002   \n",
       "2          0.003001               0.002   \n",
       "\n",
       "                                           PARAMETRS  \n",
       "0                                                 {}  \n",
       "1  {'decisiontreeregressor__max_depth': 1, 'decis...  \n",
       "2  {'svr__C': 10, 'svr__gamma': 'scale', 'svr__ke...  "
      ]
     },
     "execution_count": 59,
     "metadata": {},
     "output_type": "execute_result"
    }
   ],
   "source": [
    "results"
   ]
  },
  {
   "cell_type": "code",
   "execution_count": 60,
   "id": "6603d455-e6d0-4244-bb5e-2de4b5e52af0",
   "metadata": {},
   "outputs": [],
   "source": [
    "# Рассчитываем рейтинг с учетом указанных приоритетов\n",
    "results['RATING'] = (\n",
    "    0.5 * (1 - (results['MAE TEST'] / results['MAE TEST'].max())) +\n",
    "    0.3 * (1 - (results['TIME TRAINING [s]'] / results['TIME TRAINING [s]'].max())) +\n",
    "    0.2 * (1 - (results['TIME PREDICTION [s]'] / results['TIME PREDICTION [s]'].max()))\n",
    ")\n",
    "# Сортируем DataFrame по убыванию рейтинга\n",
    "results = results.sort_values(by='RATING', ascending=False)"
   ]
  },
  {
   "cell_type": "code",
   "execution_count": 61,
   "id": "0263de63-d3e4-4ee5-9c87-132378fb49ad",
   "metadata": {},
   "outputs": [
    {
     "data": {
      "text/html": [
       "<div>\n",
       "<style scoped>\n",
       "    .dataframe tbody tr th:only-of-type {\n",
       "        vertical-align: middle;\n",
       "    }\n",
       "\n",
       "    .dataframe tbody tr th {\n",
       "        vertical-align: top;\n",
       "    }\n",
       "\n",
       "    .dataframe thead th {\n",
       "        text-align: right;\n",
       "    }\n",
       "</style>\n",
       "<table border=\"1\" class=\"dataframe\">\n",
       "  <thead>\n",
       "    <tr style=\"text-align: right;\">\n",
       "      <th></th>\n",
       "      <th>NAME</th>\n",
       "      <th>MAE TRAIN</th>\n",
       "      <th>MAE TEST</th>\n",
       "      <th>PREDICTIONS</th>\n",
       "      <th>TIME TRAINING [s]</th>\n",
       "      <th>TIME PREDICTION [s]</th>\n",
       "      <th>PARAMETRS</th>\n",
       "      <th>RATING</th>\n",
       "    </tr>\n",
       "  </thead>\n",
       "  <tbody>\n",
       "    <tr>\n",
       "      <th>0</th>\n",
       "      <td>LinearRegression</td>\n",
       "      <td>45714.271299</td>\n",
       "      <td>2564.561754</td>\n",
       "      <td>22000.042425</td>\n",
       "      <td>0.003002</td>\n",
       "      <td>0.002</td>\n",
       "      <td>{}</td>\n",
       "      <td>0.137975</td>\n",
       "    </tr>\n",
       "    <tr>\n",
       "      <th>1</th>\n",
       "      <td>DecisionTreeRegressor</td>\n",
       "      <td>2225.75394</td>\n",
       "      <td>3383.304813</td>\n",
       "      <td>22004.529412</td>\n",
       "      <td>0.003001</td>\n",
       "      <td>0.002</td>\n",
       "      <td>{'decisiontreeregressor__max_depth': 1, 'decis...</td>\n",
       "      <td>0.022494</td>\n",
       "    </tr>\n",
       "    <tr>\n",
       "      <th>2</th>\n",
       "      <td>SVR</td>\n",
       "      <td>2207.794027</td>\n",
       "      <td>3541.972537</td>\n",
       "      <td>21602.169682</td>\n",
       "      <td>0.003001</td>\n",
       "      <td>0.002</td>\n",
       "      <td>{'svr__C': 10, 'svr__gamma': 'scale', 'svr__ke...</td>\n",
       "      <td>0.000071</td>\n",
       "    </tr>\n",
       "  </tbody>\n",
       "</table>\n",
       "</div>"
      ],
      "text/plain": [
       "                    NAME     MAE TRAIN     MAE TEST   PREDICTIONS  \\\n",
       "0       LinearRegression  45714.271299  2564.561754  22000.042425   \n",
       "1  DecisionTreeRegressor    2225.75394  3383.304813  22004.529412   \n",
       "2                    SVR   2207.794027  3541.972537  21602.169682   \n",
       "\n",
       "  TIME TRAINING [s] TIME PREDICTION [s]  \\\n",
       "0          0.003002               0.002   \n",
       "1          0.003001               0.002   \n",
       "2          0.003001               0.002   \n",
       "\n",
       "                                           PARAMETRS    RATING  \n",
       "0                                                 {}  0.137975  \n",
       "1  {'decisiontreeregressor__max_depth': 1, 'decis...  0.022494  \n",
       "2  {'svr__C': 10, 'svr__gamma': 'scale', 'svr__ke...  0.000071  "
      ]
     },
     "execution_count": 61,
     "metadata": {},
     "output_type": "execute_result"
    }
   ],
   "source": [
    "results"
   ]
  },
  {
   "cell_type": "markdown",
   "id": "0edfd529-0383-48dd-9826-62710c53502a",
   "metadata": {},
   "source": [
    "### Важность признаков модели \"DecisionTreeRegressor\""
   ]
  },
  {
   "cell_type": "code",
   "execution_count": 62,
   "id": "3bea4dfe-e04a-43a6-9287-6c3a37a68269",
   "metadata": {},
   "outputs": [],
   "source": [
    "#results.T[0]"
   ]
  },
  {
   "cell_type": "code",
   "execution_count": 63,
   "id": "c430a4e3-16ac-4ee8-8a76-51b035033125",
   "metadata": {},
   "outputs": [],
   "source": [
    "#results['PARAMETRS'][0]"
   ]
  },
  {
   "cell_type": "code",
   "execution_count": 64,
   "id": "7ec7fcce-80f0-4cfb-bbfc-0258a98f1c5a",
   "metadata": {},
   "outputs": [],
   "source": [
    "# Извлекаем параметры из словаря\n",
    "#param_dict = results['PARAMETRS'][0]\n",
    "\n",
    "#cleaned_params = {key.split('__')[1]: value for key, value in param_dict.items() if key.startswith('decisiontreeregressor__')}"
   ]
  },
  {
   "cell_type": "code",
   "execution_count": 65,
   "id": "1bee45fa-e57c-45d9-9337-a9df2643b14b",
   "metadata": {},
   "outputs": [],
   "source": [
    "# Инициализация модели с лучшими гиперпараметрами\n",
    "#best_model = DecisionTreeRegressor(**cleaned_params)"
   ]
  },
  {
   "cell_type": "code",
   "execution_count": 66,
   "id": "4601a221-6a20-4535-a234-bffe7ea93dc7",
   "metadata": {},
   "outputs": [
    {
     "data": {
      "text/plain": [
       "NAME                                               DecisionTreeRegressor\n",
       "MAE TRAIN                                                     2225.75394\n",
       "MAE TEST                                                     3383.304813\n",
       "PREDICTIONS                                                 22004.529412\n",
       "TIME TRAINING [s]                                               0.003001\n",
       "TIME PREDICTION [s]                                                0.002\n",
       "PARAMETRS              {'decisiontreeregressor__max_depth': 1, 'decis...\n",
       "RATING                                                          0.022494\n",
       "Name: 1, dtype: object"
      ]
     },
     "metadata": {},
     "output_type": "display_data"
    }
   ],
   "source": [
    "# Извлекаем результаты решающего дерева\n",
    "dt_results = results[results['NAME'] == 'DecisionTreeRegressor'].iloc[0]\n",
    "display(dt_results)"
   ]
  },
  {
   "cell_type": "code",
   "execution_count": 67,
   "id": "c7a64cfd-ee7e-4e5a-a3f2-741ff8d3bffd",
   "metadata": {},
   "outputs": [
    {
     "data": {
      "text/plain": [
       "{'0': {},\n",
       " '1': {'decisiontreeregressor__max_depth': 1,\n",
       "  'decisiontreeregressor__min_samples_leaf': 1},\n",
       " '2': {'svr__C': 10, 'svr__gamma': 'scale', 'svr__kernel': 'linear'}}"
      ]
     },
     "metadata": {},
     "output_type": "display_data"
    }
   ],
   "source": [
    "# Извлекаем параметры из словаря\n",
    "param_dict = results['PARAMETRS']\n",
    "\n",
    "# Преобразуем значения словаря в строки и извлекаем параметры\n",
    "cleaned_params = {re.sub('decisiontreeregressor__', '', str(key)): value for key, value in param_dict.items()}\n",
    "display(cleaned_params)"
   ]
  },
  {
   "cell_type": "code",
   "execution_count": 68,
   "id": "c4107739-4aa4-42be-9b03-6cdeb09221b3",
   "metadata": {},
   "outputs": [],
   "source": [
    "# Инициализация модели с лучшими гиперпараметрами\n",
    "cleaned_params.pop('1', None)\n",
    "cleaned_params.pop('2', None)\n",
    "best_model = DecisionTreeRegressor(**cleaned_params['0'])"
   ]
  },
  {
   "cell_type": "code",
   "execution_count": 69,
   "id": "a3a63a1d-c2e3-4a1e-8361-d066dec047b2",
   "metadata": {},
   "outputs": [
    {
     "data": {
      "text/html": [
       "<style>#sk-container-id-6 {color: black;}#sk-container-id-6 pre{padding: 0;}#sk-container-id-6 div.sk-toggleable {background-color: white;}#sk-container-id-6 label.sk-toggleable__label {cursor: pointer;display: block;width: 100%;margin-bottom: 0;padding: 0.3em;box-sizing: border-box;text-align: center;}#sk-container-id-6 label.sk-toggleable__label-arrow:before {content: \"▸\";float: left;margin-right: 0.25em;color: #696969;}#sk-container-id-6 label.sk-toggleable__label-arrow:hover:before {color: black;}#sk-container-id-6 div.sk-estimator:hover label.sk-toggleable__label-arrow:before {color: black;}#sk-container-id-6 div.sk-toggleable__content {max-height: 0;max-width: 0;overflow: hidden;text-align: left;background-color: #f0f8ff;}#sk-container-id-6 div.sk-toggleable__content pre {margin: 0.2em;color: black;border-radius: 0.25em;background-color: #f0f8ff;}#sk-container-id-6 input.sk-toggleable__control:checked~div.sk-toggleable__content {max-height: 200px;max-width: 100%;overflow: auto;}#sk-container-id-6 input.sk-toggleable__control:checked~label.sk-toggleable__label-arrow:before {content: \"▾\";}#sk-container-id-6 div.sk-estimator input.sk-toggleable__control:checked~label.sk-toggleable__label {background-color: #d4ebff;}#sk-container-id-6 div.sk-label input.sk-toggleable__control:checked~label.sk-toggleable__label {background-color: #d4ebff;}#sk-container-id-6 input.sk-hidden--visually {border: 0;clip: rect(1px 1px 1px 1px);clip: rect(1px, 1px, 1px, 1px);height: 1px;margin: -1px;overflow: hidden;padding: 0;position: absolute;width: 1px;}#sk-container-id-6 div.sk-estimator {font-family: monospace;background-color: #f0f8ff;border: 1px dotted black;border-radius: 0.25em;box-sizing: border-box;margin-bottom: 0.5em;}#sk-container-id-6 div.sk-estimator:hover {background-color: #d4ebff;}#sk-container-id-6 div.sk-parallel-item::after {content: \"\";width: 100%;border-bottom: 1px solid gray;flex-grow: 1;}#sk-container-id-6 div.sk-label:hover label.sk-toggleable__label {background-color: #d4ebff;}#sk-container-id-6 div.sk-serial::before {content: \"\";position: absolute;border-left: 1px solid gray;box-sizing: border-box;top: 0;bottom: 0;left: 50%;z-index: 0;}#sk-container-id-6 div.sk-serial {display: flex;flex-direction: column;align-items: center;background-color: white;padding-right: 0.2em;padding-left: 0.2em;position: relative;}#sk-container-id-6 div.sk-item {position: relative;z-index: 1;}#sk-container-id-6 div.sk-parallel {display: flex;align-items: stretch;justify-content: center;background-color: white;position: relative;}#sk-container-id-6 div.sk-item::before, #sk-container-id-6 div.sk-parallel-item::before {content: \"\";position: absolute;border-left: 1px solid gray;box-sizing: border-box;top: 0;bottom: 0;left: 50%;z-index: -1;}#sk-container-id-6 div.sk-parallel-item {display: flex;flex-direction: column;z-index: 1;position: relative;background-color: white;}#sk-container-id-6 div.sk-parallel-item:first-child::after {align-self: flex-end;width: 50%;}#sk-container-id-6 div.sk-parallel-item:last-child::after {align-self: flex-start;width: 50%;}#sk-container-id-6 div.sk-parallel-item:only-child::after {width: 0;}#sk-container-id-6 div.sk-dashed-wrapped {border: 1px dashed gray;margin: 0 0.4em 0.5em 0.4em;box-sizing: border-box;padding-bottom: 0.4em;background-color: white;}#sk-container-id-6 div.sk-label label {font-family: monospace;font-weight: bold;display: inline-block;line-height: 1.2em;}#sk-container-id-6 div.sk-label-container {text-align: center;}#sk-container-id-6 div.sk-container {/* jupyter's `normalize.less` sets `[hidden] { display: none; }` but bootstrap.min.css set `[hidden] { display: none !important; }` so we also need the `!important` here to be able to override the default hidden behavior on the sphinx rendered scikit-learn.org. See: https://github.com/scikit-learn/scikit-learn/issues/21755 */display: inline-block !important;position: relative;}#sk-container-id-6 div.sk-text-repr-fallback {display: none;}</style><div id=\"sk-container-id-6\" class=\"sk-top-container\"><div class=\"sk-text-repr-fallback\"><pre>DecisionTreeRegressor()</pre><b>In a Jupyter environment, please rerun this cell to show the HTML representation or trust the notebook. <br />On GitHub, the HTML representation is unable to render, please try loading this page with nbviewer.org.</b></div><div class=\"sk-container\" hidden><div class=\"sk-item\"><div class=\"sk-estimator sk-toggleable\"><input class=\"sk-toggleable__control sk-hidden--visually\" id=\"sk-estimator-id-15\" type=\"checkbox\" checked><label for=\"sk-estimator-id-15\" class=\"sk-toggleable__label sk-toggleable__label-arrow\">DecisionTreeRegressor</label><div class=\"sk-toggleable__content\"><pre>DecisionTreeRegressor()</pre></div></div></div></div></div>"
      ],
      "text/plain": [
       "DecisionTreeRegressor()"
      ]
     },
     "execution_count": 69,
     "metadata": {},
     "output_type": "execute_result"
    }
   ],
   "source": [
    "# Обучение модели\n",
    "best_model.fit(features_train, target_train)"
   ]
  },
  {
   "cell_type": "code",
   "execution_count": 70,
   "id": "e87b3697-3304-47b1-9316-6972d6410607",
   "metadata": {},
   "outputs": [],
   "source": [
    "# Получение важности признаков\n",
    "feature_importance = best_model.feature_importances_"
   ]
  },
  {
   "cell_type": "code",
   "execution_count": 71,
   "id": "917d66c3-30b3-43a8-9c11-074068e89e43",
   "metadata": {},
   "outputs": [],
   "source": [
    "# Получение названий признаков\n",
    "feature_names = features_train.columns"
   ]
  },
  {
   "cell_type": "code",
   "execution_count": 72,
   "id": "d7dcc61c-1743-441b-9e83-fcf07f794f73",
   "metadata": {},
   "outputs": [],
   "source": [
    "# Сортировка индексов признаков по их важности\n",
    "sorted_idx = np.argsort(feature_importance)"
   ]
  },
  {
   "cell_type": "code",
   "execution_count": 73,
   "id": "6ba4e388-ecd5-4e8a-a300-29a720a605b9",
   "metadata": {},
   "outputs": [
    {
     "data": {
      "image/png": "[encoded data removed]",
      "text/plain": [
       "<Figure size 1000x1500 with 1 Axes>"
      ]
     },
     "metadata": {},
     "output_type": "display_data"
    }
   ],
   "source": [
    "# Построение графика важности признаков с улучшенным отображением\n",
    "plt.figure(figsize=(10, 15))\n",
    "plt.barh(range(len(sorted_idx)), feature_importance[sorted_idx])\n",
    "plt.yticks(range(len(sorted_idx)), feature_names[sorted_idx], fontsize=10)\n",
    "plt.xlabel('Важность признака', fontsize=12)\n",
    "plt.title('График важности признаков в дереве решений', fontsize=14)\n",
    "plt.grid(axis='x', linestyle='--', alpha=0.6)\n",
    "plt.show()"
   ]
  },
  {
   "cell_type": "markdown",
   "id": "3936192b-9687-42ff-a071-b8ef1d63355b",
   "metadata": {},
   "source": [
    "### 3.4.3. Визуализация Дерево решений"
   ]
  },
  {
   "cell_type": "code",
   "execution_count": 74,
   "id": "00ecca40-c982-4972-b492-42ecc807b919",
   "metadata": {},
   "outputs": [
    {
     "data": {
      "text/plain": [
       "'decision_tree.pdf'"
      ]
     },
     "execution_count": 74,
     "metadata": {},
     "output_type": "execute_result"
    }
   ],
   "source": [
    "# Визуализация дерева\n",
    "dot_data_graphviz = export_graphviz(\n",
    "    best_model, \n",
    "    out_file=None, \n",
    "    feature_names=list(features_train.columns), \n",
    "    filled=True, \n",
    "    rounded=True, \n",
    "    special_characters=True\n",
    ")\n",
    "graph = graphviz.Source(dot_data_graphviz)\n",
    "graph.render(\"decision_tree\")\n",
    "graph.view(\"decision_tree\")"
   ]
  },
  {
   "cell_type": "code",
   "execution_count": 75,
   "id": "ad4d51e6-cda4-434d-aa0b-e6fafe47efcc",
   "metadata": {
    "scrolled": true
   },
   "outputs": [
    {
     "name": "stdout",
     "output_type": "stream",
     "text": [
      "Правила дерева решений:\n",
      " |--- miles <= 60274.50\n",
      "|   |--- horsepower <= 183.00\n",
      "|   |   |--- fuel_capacity <= 12.80\n",
      "|   |   |   |--- id <= 21.50\n",
      "|   |   |   |   |--- miles <= 29721.50\n",
      "|   |   |   |   |   |--- service_records <= 4.50\n",
      "|   |   |   |   |   |   |--- value: [25655.00]\n",
      "|   |   |   |   |   |--- service_records >  4.50\n",
      "|   |   |   |   |   |   |--- value: [24498.00]\n",
      "|   |   |   |   |--- miles >  29721.50\n",
      "|   |   |   |   |   |--- value: [22688.00]\n",
      "|   |   |   |--- id >  21.50\n",
      "|   |   |   |   |--- id <= 36.00\n",
      "|   |   |   |   |   |--- id <= 28.50\n",
      "|   |   |   |   |   |   |--- truncated branch of depth 2\n",
      "|   |   |   |   |   |--- id >  28.50\n",
      "|   |   |   |   |   |   |--- truncated branch of depth 2\n",
      "|   |   |   |   |--- id >  36.00\n",
      "|   |   |   |   |   |--- city_mileage <= 31.50\n",
      "|   |   |   |   |   |   |--- truncated branch of depth 2\n",
      "|   |   |   |   |   |--- city_mileage >  31.50\n",
      "|   |   |   |   |   |   |--- value: [22476.00]\n",
      "|   |   |--- fuel_capacity >  12.80\n",
      "|   |   |   |--- rear_headroom <= 37.15\n",
      "|   |   |   |   |--- brand_Honda <= 0.50\n",
      "|   |   |   |   |   |--- front_legroom <= 41.70\n",
      "|   |   |   |   |   |   |--- value: [17500.00]\n",
      "|   |   |   |   |   |--- front_legroom >  41.70\n",
      "|   |   |   |   |   |   |--- value: [16787.00]\n",
      "|   |   |   |   |--- brand_Honda >  0.50\n",
      "|   |   |   |   |   |--- value: [19450.00]\n",
      "|   |   |   |--- rear_headroom >  37.15\n",
      "|   |   |   |   |--- service_records <= 7.50\n",
      "|   |   |   |   |   |--- miles <= 21971.00\n",
      "|   |   |   |   |   |   |--- truncated branch of depth 4\n",
      "|   |   |   |   |   |--- miles >  21971.00\n",
      "|   |   |   |   |   |   |--- truncated branch of depth 3\n",
      "|   |   |   |   |--- service_records >  7.50\n",
      "|   |   |   |   |   |--- model_Jetta <= 0.50\n",
      "|   |   |   |   |   |   |--- truncated branch of depth 2\n",
      "|   |   |   |   |   |--- model_Jetta >  0.50\n",
      "|   |   |   |   |   |   |--- value: [17880.00]\n",
      "|   |--- horsepower >  183.00\n",
      "|   |   |--- id <= 24.00\n",
      "|   |   |   |--- miles <= 16057.00\n",
      "|   |   |   |   |--- value: [26788.00]\n",
      "|   |   |   |--- miles >  16057.00\n",
      "|   |   |   |   |--- engine_type_hybrid_gas_electric <= 0.50\n",
      "|   |   |   |   |   |--- value: [26988.00]\n",
      "|   |   |   |   |--- engine_type_hybrid_gas_electric >  0.50\n",
      "|   |   |   |   |   |--- value: [26999.00]\n",
      "|   |   |--- id >  24.00\n",
      "|   |   |   |--- front_headroom <= 39.15\n",
      "|   |   |   |   |--- brand_Volkswagen <= 0.50\n",
      "|   |   |   |   |   |--- num_owners <= 1.50\n",
      "|   |   |   |   |   |   |--- value: [23570.00]\n",
      "|   |   |   |   |   |--- num_owners >  1.50\n",
      "|   |   |   |   |   |   |--- truncated branch of depth 2\n",
      "|   |   |   |   |--- brand_Volkswagen >  0.50\n",
      "|   |   |   |   |   |--- value: [25460.00]\n",
      "|   |   |   |--- front_headroom >  39.15\n",
      "|   |   |   |   |--- id <= 37.50\n",
      "|   |   |   |   |   |--- value: [20900.00]\n",
      "|   |   |   |   |--- id >  37.50\n",
      "|   |   |   |   |   |--- model_Fusion <= 0.50\n",
      "|   |   |   |   |   |   |--- value: [21988.00]\n",
      "|   |   |   |   |   |--- model_Fusion >  0.50\n",
      "|   |   |   |   |   |   |--- value: [21591.00]\n",
      "|--- miles >  60274.50\n",
      "|   |--- brand_Honda <= 0.50\n",
      "|   |   |--- year <= 2015.50\n",
      "|   |   |   |--- value: [13590.00]\n",
      "|   |   |--- year >  2015.50\n",
      "|   |   |   |--- engine_capacity_litre <= 1.90\n",
      "|   |   |   |   |--- value: [15795.00]\n",
      "|   |   |   |--- engine_capacity_litre >  1.90\n",
      "|   |   |   |   |--- value: [15590.00]\n",
      "|   |--- brand_Honda >  0.50\n",
      "|   |   |--- engine_capacity_litre <= 1.75\n",
      "|   |   |   |--- miles <= 89062.50\n",
      "|   |   |   |   |--- value: [19403.00]\n",
      "|   |   |   |--- miles >  89062.50\n",
      "|   |   |   |   |--- value: [20590.00]\n",
      "|   |   |--- engine_capacity_litre >  1.75\n",
      "|   |   |   |--- num_owners <= 1.50\n",
      "|   |   |   |   |--- value: [17488.00]\n",
      "|   |   |   |--- num_owners >  1.50\n",
      "|   |   |   |   |--- value: [18277.00]\n",
      "\n"
     ]
    }
   ],
   "source": [
    "# Вывод правил дерева в текстовом виде\n",
    "tree_rules = export_text(best_model, feature_names=list(features_train.columns), max_depth=5)\n",
    "print(\"Правила дерева решений:\\n\", tree_rules)"
   ]
  }
 ],
 "metadata": {
  "kernelspec": {
   "display_name": "Python 3 (ipykernel)",
   "language": "python",
   "name": "python3"
  },
  "language_info": {
   "codemirror_mode": {
    "name": "ipython",
    "version": 3
   },
   "file_extension": ".py",
   "mimetype": "text/x-python",
   "name": "python",
   "nbconvert_exporter": "python",
   "pygments_lexer": "ipython3",
   "version": "3.9.13"
  }
 },
 "nbformat": 4,
 "nbformat_minor": 5
}
